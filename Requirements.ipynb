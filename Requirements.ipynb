{
  "cells": [
    {
      "cell_type": "markdown",
      "metadata": {
        "id": "view-in-github",
        "colab_type": "text"
      },
      "source": [
        "<a href=\"https://colab.research.google.com/github/Xoailomo/Machine-Learning-Model/blob/main/ml_project.ipynb\" target=\"_parent\"><img src=\"https://colab.research.google.com/assets/colab-badge.svg\" alt=\"Open In Colab\"/></a>"
      ]
    },
    {
      "cell_type": "markdown",
      "id": "cbd57730-7ba3-4431-bd4c-e1ba4dcc6443",
      "metadata": {
        "id": "cbd57730-7ba3-4431-bd4c-e1ba4dcc6443"
      },
      "source": [
        "# <h1 align=\"center\"> DSR301 XÂY DỰNG MÔ HÌNH HỌC MÁY. <h3/>"
      ]
    },
    {
      "cell_type": "code",
      "source": [
        "\n",
        "install.packages(c(\"tidyverse\",\"caret\", \"GGally\", \"tidymodels\"))\n",
        "library(caret)\n",
        "library(GGally)\n",
        "library(tidymodels)\n",
        "library(tidyverse)"
      ],
      "metadata": {
        "colab": {
          "base_uri": "https://localhost:8080/"
        },
        "id": "i6sPiWUxG391",
        "outputId": "2e6fbe59-509c-4d04-af55-859cb1be0515"
      },
      "id": "i6sPiWUxG391",
      "execution_count": null,
      "outputs": [
        {
          "output_type": "stream",
          "name": "stderr",
          "text": [
            "Installing packages into ‘/usr/local/lib/R/site-library’\n",
            "(as ‘lib’ is unspecified)\n",
            "\n",
            "also installing the dependencies ‘shape’, ‘numDeriv’, ‘progressr’, ‘SQUAREM’, ‘diagram’, ‘lava’, ‘prodlim’, ‘warp’, ‘future.apply’, ‘listenv’, ‘parallelly’, ‘lhs’, ‘proxy’, ‘iterators’, ‘clock’, ‘gower’, ‘ipred’, ‘sparsevctrs’, ‘timeDate’, ‘patchwork’, ‘DiceDesign’, ‘sfd’, ‘globals’, ‘furrr’, ‘slider’, ‘doFuture’, ‘future’, ‘GPfit’, ‘modelenv’, ‘e1071’, ‘foreach’, ‘ModelMetrics’, ‘plyr’, ‘pROC’, ‘recipes’, ‘reshape2’, ‘ggstats’, ‘dials’, ‘hardhat’, ‘infer’, ‘modeldata’, ‘parsnip’, ‘rsample’, ‘tune’, ‘workflows’, ‘workflowsets’, ‘yardstick’\n",
            "\n",
            "\n"
          ]
        }
      ]
    },
    {
      "cell_type": "code",
      "source": [
        "\n",
        "head(mtcars)"
      ],
      "metadata": {
        "colab": {
          "base_uri": "https://localhost:8080/",
          "height": 286
        },
        "id": "63sTCxK_OZsZ",
        "outputId": "46dea406-9566-4e79-f849-f6fa8dc75ab3"
      },
      "id": "63sTCxK_OZsZ",
      "execution_count": null,
      "outputs": [
        {
          "output_type": "display_data",
          "data": {
            "text/html": [
              "<table class=\"dataframe\">\n",
              "<caption>A data.frame: 6 × 11</caption>\n",
              "<thead>\n",
              "\t<tr><th></th><th scope=col>mpg</th><th scope=col>cyl</th><th scope=col>disp</th><th scope=col>hp</th><th scope=col>drat</th><th scope=col>wt</th><th scope=col>qsec</th><th scope=col>vs</th><th scope=col>am</th><th scope=col>gear</th><th scope=col>carb</th></tr>\n",
              "\t<tr><th></th><th scope=col>&lt;dbl&gt;</th><th scope=col>&lt;dbl&gt;</th><th scope=col>&lt;dbl&gt;</th><th scope=col>&lt;dbl&gt;</th><th scope=col>&lt;dbl&gt;</th><th scope=col>&lt;dbl&gt;</th><th scope=col>&lt;dbl&gt;</th><th scope=col>&lt;dbl&gt;</th><th scope=col>&lt;dbl&gt;</th><th scope=col>&lt;dbl&gt;</th><th scope=col>&lt;dbl&gt;</th></tr>\n",
              "</thead>\n",
              "<tbody>\n",
              "\t<tr><th scope=row>Mazda RX4</th><td>21.0</td><td>6</td><td>160</td><td>110</td><td>3.90</td><td>2.620</td><td>16.46</td><td>0</td><td>1</td><td>4</td><td>4</td></tr>\n",
              "\t<tr><th scope=row>Mazda RX4 Wag</th><td>21.0</td><td>6</td><td>160</td><td>110</td><td>3.90</td><td>2.875</td><td>17.02</td><td>0</td><td>1</td><td>4</td><td>4</td></tr>\n",
              "\t<tr><th scope=row>Datsun 710</th><td>22.8</td><td>4</td><td>108</td><td> 93</td><td>3.85</td><td>2.320</td><td>18.61</td><td>1</td><td>1</td><td>4</td><td>1</td></tr>\n",
              "\t<tr><th scope=row>Hornet 4 Drive</th><td>21.4</td><td>6</td><td>258</td><td>110</td><td>3.08</td><td>3.215</td><td>19.44</td><td>1</td><td>0</td><td>3</td><td>1</td></tr>\n",
              "\t<tr><th scope=row>Hornet Sportabout</th><td>18.7</td><td>8</td><td>360</td><td>175</td><td>3.15</td><td>3.440</td><td>17.02</td><td>0</td><td>0</td><td>3</td><td>2</td></tr>\n",
              "\t<tr><th scope=row>Valiant</th><td>18.1</td><td>6</td><td>225</td><td>105</td><td>2.76</td><td>3.460</td><td>20.22</td><td>1</td><td>0</td><td>3</td><td>1</td></tr>\n",
              "</tbody>\n",
              "</table>\n"
            ],
            "text/markdown": "\nA data.frame: 6 × 11\n\n| <!--/--> | mpg &lt;dbl&gt; | cyl &lt;dbl&gt; | disp &lt;dbl&gt; | hp &lt;dbl&gt; | drat &lt;dbl&gt; | wt &lt;dbl&gt; | qsec &lt;dbl&gt; | vs &lt;dbl&gt; | am &lt;dbl&gt; | gear &lt;dbl&gt; | carb &lt;dbl&gt; |\n|---|---|---|---|---|---|---|---|---|---|---|---|\n| Mazda RX4 | 21.0 | 6 | 160 | 110 | 3.90 | 2.620 | 16.46 | 0 | 1 | 4 | 4 |\n| Mazda RX4 Wag | 21.0 | 6 | 160 | 110 | 3.90 | 2.875 | 17.02 | 0 | 1 | 4 | 4 |\n| Datsun 710 | 22.8 | 4 | 108 |  93 | 3.85 | 2.320 | 18.61 | 1 | 1 | 4 | 1 |\n| Hornet 4 Drive | 21.4 | 6 | 258 | 110 | 3.08 | 3.215 | 19.44 | 1 | 0 | 3 | 1 |\n| Hornet Sportabout | 18.7 | 8 | 360 | 175 | 3.15 | 3.440 | 17.02 | 0 | 0 | 3 | 2 |\n| Valiant | 18.1 | 6 | 225 | 105 | 2.76 | 3.460 | 20.22 | 1 | 0 | 3 | 1 |\n\n",
            "text/latex": "A data.frame: 6 × 11\n\\begin{tabular}{r|lllllllllll}\n  & mpg & cyl & disp & hp & drat & wt & qsec & vs & am & gear & carb\\\\\n  & <dbl> & <dbl> & <dbl> & <dbl> & <dbl> & <dbl> & <dbl> & <dbl> & <dbl> & <dbl> & <dbl>\\\\\n\\hline\n\tMazda RX4 & 21.0 & 6 & 160 & 110 & 3.90 & 2.620 & 16.46 & 0 & 1 & 4 & 4\\\\\n\tMazda RX4 Wag & 21.0 & 6 & 160 & 110 & 3.90 & 2.875 & 17.02 & 0 & 1 & 4 & 4\\\\\n\tDatsun 710 & 22.8 & 4 & 108 &  93 & 3.85 & 2.320 & 18.61 & 1 & 1 & 4 & 1\\\\\n\tHornet 4 Drive & 21.4 & 6 & 258 & 110 & 3.08 & 3.215 & 19.44 & 1 & 0 & 3 & 1\\\\\n\tHornet Sportabout & 18.7 & 8 & 360 & 175 & 3.15 & 3.440 & 17.02 & 0 & 0 & 3 & 2\\\\\n\tValiant & 18.1 & 6 & 225 & 105 & 2.76 & 3.460 & 20.22 & 1 & 0 & 3 & 1\\\\\n\\end{tabular}\n",
            "text/plain": [
              "                  mpg  cyl disp hp  drat wt    qsec  vs am gear carb\n",
              "Mazda RX4         21.0 6   160  110 3.90 2.620 16.46 0  1  4    4   \n",
              "Mazda RX4 Wag     21.0 6   160  110 3.90 2.875 17.02 0  1  4    4   \n",
              "Datsun 710        22.8 4   108   93 3.85 2.320 18.61 1  1  4    1   \n",
              "Hornet 4 Drive    21.4 6   258  110 3.08 3.215 19.44 1  0  3    1   \n",
              "Hornet Sportabout 18.7 8   360  175 3.15 3.440 17.02 0  0  3    2   \n",
              "Valiant           18.1 6   225  105 2.76 3.460 20.22 1  0  3    1   "
            ]
          },
          "metadata": {}
        }
      ]
    },
    {
      "cell_type": "markdown",
      "id": "a94bca8a-6d1c-494e-b172-cea1e84eaa37",
      "metadata": {
        "id": "a94bca8a-6d1c-494e-b172-cea1e84eaa37"
      },
      "source": [
        "## GROUP: 1+1\n",
        "### Group member: huỳn\n",
        "### Group member: nhoi\n",
        "### Group member: thân\n",
        "### Group member: khánh\n",
        "### Group member: khoa"
      ]
    },
    {
      "cell_type": "code",
      "source": [
        "boxplot(mtcars)"
      ],
      "metadata": {
        "colab": {
          "base_uri": "https://localhost:8080/",
          "height": 437
        },
        "id": "NUUH26y2OwMJ",
        "outputId": "65a60f1f-c273-4dbb-dd05-faeb504d2824"
      },
      "id": "NUUH26y2OwMJ",
      "execution_count": null,
      "outputs": [
        {
          "output_type": "display_data",
          "data": {
            "text/plain": [
              "plot without title"
            ],
            "image/png": "[encoded data removed]"
          },
          "metadata": {
            "image/png": {
              "width": 420,
              "height": 420
            }
          }
        }
      ]
    },
    {
      "cell_type": "markdown",
      "id": "88ab3f3c-3401-4d00-a5ae-9e7f57c52205",
      "metadata": {
        "id": "88ab3f3c-3401-4d00-a5ae-9e7f57c52205"
      },
      "source": [
        "### 1. NHIỆM VỤ\n",
        "  1.1. Tên hoạt động: Xây dựng một mô hình học máy bằng R với dữ liệu tự chọn.\n",
        "- 1.2. Mục tiêu:\n",
        "- Thành thạo quy trình xây dựng một mô hình học máy cơ bản.\n",
        "- Áp dụng kỹ năng xử lý dữ liệu, trực quan hóa, lựa chọn mô hình và đánh giá mô hình.\n",
        "- Thực hành sử dụng R và thư viện học máy phổ biến (như caret, randomForest, e1071, glmnet, xgboost, v.v.).\n",
        "- Rèn kỹ năng trình bày kết quả dưới dạng notebook có thể tái lập (reproducible).\n",
        "### 2. YÊU CẦU CHI TIẾT\n",
        "1.\tChọn một bộ dữ liệu (dataset) phù hợp\n",
        "- Có ít nhất 500 dòng dữ liệu và 5 cột đặc trưng trở lên.\n",
        "- Có thể chọn từ: UCI, Kaggle, OpenML, hoặc các bộ dữ liệu sẵn có trong R (iris, mtcars, airquality, Boston, diamonds, v.v.).\n",
        "2.\tMục tiêu mô hình hóa\n",
        "- Lựa chọn một bài toán phân loại hoặc hồi quy phù hợp với dữ liệu.\n",
        "- Nêu rõ biến mục tiêu (target) và biến đặc trưng (features).\n",
        "3.\tTiền xử lý dữ liệu (data preprocessing)\n",
        "- Kiểm tra thiếu dữ liệu và xử lý.\n",
        "- Chuẩn hóa, biến đổi dữ liệu nếu cần (One-Hot Encoding, Scaling...).\n",
        "- Phân chia tập dữ liệu thành train/test (ví dụ: 70/30 hoặc 80/20).\n",
        "4.\tTrực quan hóa dữ liệu\n",
        "- Trình bày các biểu đồ minh họa (histogram, boxplot, scatterplot, correlation heatmap…).\n",
        "- Phân tích sự tương quan hoặc phân phối các biến.\n",
        "5.\tHuấn luyện mô hình học máy\n",
        "- Áp dụng ít nhất 1 mô hình học máy (ví dụ: linear regression, logistic regression, random forest, decision tree, SVM, kNN, xgboost, …).\n",
        "- Tối ưu hoặc điều chỉnh hyperparameter nếu có thể.\n",
        "6.\tĐánh giá mô hình\n",
        "- Sử dụng các chỉ số đánh giá phù hợp:\n",
        "+ Hồi quy: RMSE, MAE, R²\n",
        "+ Phân loại: Accuracy, Confusion Matrix, Precision/Recall/F1-score, ROC/AUC\n",
        "- Đưa ra nhận xét về hiệu quả mô hình.\n",
        "7.\tGhi chép đầy đủ và rõ ràng trong Notebook\n",
        "- Mã R cần có chú thích, trình bày rõ ràng.\n",
        "- Trình bày phân tích, lý do lựa chọn mô hình, kết luận hợp lý.\n",
        "### 3. YÊU CẦU PROJECT\n",
        "- Viết trên Jupyter Notebook (định dạng .ipynb hoặc .html)\n",
        "- Phải chạy được đầy đủ, không lỗi.\n",
        "- Có mô tả dữ liệu, phân tích kết quả, và kết luận tổng thể.\n",
        "- Nhóm thực hiện thuyết trình sản phẩm với tất cả các thành viên đều tham gia. Thời gian: slot 2 của tuần 9 theo lịch học trên Fap\n",
        "### 4. TIÊU CHÍ CHẤM ĐIỂM (thang 10 điểm)\n",
        "Tiêu chí\tMô tả\tĐiểm\n",
        "1. Lựa chọn và hiểu dữ liệu\tMô tả hợp lý, rõ ràng về bộ dữ liệu\t            1\n",
        "2. Tiền xử lý dữ liệu\tPhân tích, xử lý thiếu dữ liệu và biến đổi phù hợp\t1.5\n",
        "3. Trực quan hóa dữ liệu\tCó biểu đồ, phân tích hình ảnh hóa dữ liệu tốt\t1\n",
        "4. Xây dựng mô hình học máy\tMô hình đúng, phù hợp với dữ liệu\t            1.5\n",
        "5. Đánh giá mô hình\tĐúng phương pháp và giải thích rõ ràng\t                1\n",
        "6. Trình bày & Viết báo cáo\tGhi chú, trình bày dễ hiểu, logic\t            3"
      ]
    },
    {
      "cell_type": "code",
      "source": [
        "\n",
        "library(caret)\n",
        "# Split data\n",
        "set.seed(123)\n",
        "split <- createDataPartition(mtcars$mpg, p = 0.8, list = FALSE)\n",
        "train_data <- mtcars[split, ]\n",
        "test_data <- mtcars[-split, ]\n",
        "\n",
        "# Train a linear regression model\n",
        "model <- train(mpg ~ ., data = train_data, method = \"lm\")\n",
        "summary(model)"
      ],
      "metadata": {
        "colab": {
          "base_uri": "https://localhost:8080/",
          "height": 580
        },
        "id": "GRBWKzjyO6mw",
        "outputId": "2b891d6a-f9db-4d7d-e20e-fb4e69073fe3"
      },
      "id": "GRBWKzjyO6mw",
      "execution_count": null,
      "outputs": [
        {
          "output_type": "stream",
          "name": "stderr",
          "text": [
            "Loading required package: ggplot2\n",
            "\n",
            "Loading required package: lattice\n",
            "\n",
            "Warning message in predict.lm(modelFit, newdata):\n",
            "“prediction from rank-deficient fit; attr(*, \"non-estim\") has doubtful cases”\n"
          ]
        },
        {
          "output_type": "display_data",
          "data": {
            "text/plain": [
              "\n",
              "Call:\n",
              "lm(formula = .outcome ~ ., data = dat)\n",
              "\n",
              "Residuals:\n",
              "    Min      1Q  Median      3Q     Max \n",
              "-3.2742 -1.3609 -0.2707  1.1921  4.9877 \n",
              "\n",
              "Coefficients:\n",
              "            Estimate Std. Error t value Pr(>|t|)\n",
              "(Intercept) -2.81069   22.93545  -0.123    0.904\n",
              "cyl          0.75593    1.21576   0.622    0.542\n",
              "disp         0.01172    0.01674   0.700    0.494\n",
              "hp          -0.01386    0.02197  -0.631    0.536\n",
              "drat         2.24007    1.77251   1.264    0.223\n",
              "wt          -2.73273    1.87954  -1.454    0.164\n",
              "qsec         0.53957    0.71812   0.751    0.463\n",
              "vs           1.21640    2.02623   0.600    0.556\n",
              "am           1.73662    2.08358   0.833    0.416\n",
              "gear         2.95127    1.88459   1.566    0.136\n",
              "carb        -1.19910    0.98232  -1.221    0.239\n",
              "\n",
              "Residual standard error: 2.431 on 17 degrees of freedom\n",
              "Multiple R-squared:  0.8861,\tAdjusted R-squared:  0.8191 \n",
              "F-statistic: 13.23 on 10 and 17 DF,  p-value: 3.719e-06\n"
            ]
          },
          "metadata": {}
        }
      ]
    },
    {
      "cell_type": "code",
      "execution_count": null,
      "id": "c609be33-66f9-42c8-8d6e-d001011eeb94",
      "metadata": {
        "id": "c609be33-66f9-42c8-8d6e-d001011eeb94"
      },
      "outputs": [],
      "source": [
        "tidyverse, caret, GGaly\n"
      ]
    },
    {
      "cell_type": "code",
      "source": [
        "\n",
        "library(tidymodels)\n",
        "\n",
        "# Define recipe and model\n",
        "rec <- recipe(mpg ~ ., data = mtcars)\n",
        "mod <- linear_reg() %>% set_engine(\"lm\")\n",
        "\n",
        "# Workflow\n",
        "wf <- workflow() %>% add_model(mod) %>% add_recipe(rec)\n",
        "\n",
        "# Fit and evaluate\n",
        "fit <- wf %>% fit(data = train_data)\n",
        "predict(fit, test_data) %>% bind_cols(test_data$mpg)\n"
      ],
      "metadata": {
        "id": "vNQ684XuRTfD",
        "colab": {
          "base_uri": "https://localhost:8080/",
          "height": 659
        },
        "outputId": "2fe8935a-fe8a-4460-8fe6-ef715b5c563e"
      },
      "id": "vNQ684XuRTfD",
      "execution_count": null,
      "outputs": [
        {
          "output_type": "stream",
          "name": "stderr",
          "text": [
            "── \u001b[1mAttaching packages\u001b[22m ────────────────────────────────────── tidymodels 1.3.0 ──\n",
            "\n",
            "\u001b[32m✔\u001b[39m \u001b[34mbroom       \u001b[39m 1.0.8     \u001b[32m✔\u001b[39m \u001b[34mrsample     \u001b[39m 1.3.0\n",
            "\u001b[32m✔\u001b[39m \u001b[34mdials       \u001b[39m 1.4.0     \u001b[32m✔\u001b[39m \u001b[34mtibble      \u001b[39m 3.3.0\n",
            "\u001b[32m✔\u001b[39m \u001b[34mdplyr       \u001b[39m 1.1.4     \u001b[32m✔\u001b[39m \u001b[34mtidyr       \u001b[39m 1.3.1\n",
            "\u001b[32m✔\u001b[39m \u001b[34minfer       \u001b[39m 1.0.8     \u001b[32m✔\u001b[39m \u001b[34mtune        \u001b[39m 1.3.0\n",
            "\u001b[32m✔\u001b[39m \u001b[34mmodeldata   \u001b[39m 1.4.0     \u001b[32m✔\u001b[39m \u001b[34mworkflows   \u001b[39m 1.2.0\n",
            "\u001b[32m✔\u001b[39m \u001b[34mparsnip     \u001b[39m 1.3.2     \u001b[32m✔\u001b[39m \u001b[34mworkflowsets\u001b[39m 1.1.1\n",
            "\u001b[32m✔\u001b[39m \u001b[34mpurrr       \u001b[39m 1.0.4     \u001b[32m✔\u001b[39m \u001b[34myardstick   \u001b[39m 1.3.2\n",
            "\u001b[32m✔\u001b[39m \u001b[34mrecipes     \u001b[39m 1.3.1     \n",
            "\n",
            "── \u001b[1mConflicts\u001b[22m ───────────────────────────────────────── tidymodels_conflicts() ──\n",
            "\u001b[31m✖\u001b[39m \u001b[34mpurrr\u001b[39m::\u001b[32mdiscard()\u001b[39m         masks \u001b[34mscales\u001b[39m::discard()\n",
            "\u001b[31m✖\u001b[39m \u001b[34mdplyr\u001b[39m::\u001b[32mfilter()\u001b[39m          masks \u001b[34mstats\u001b[39m::filter()\n",
            "\u001b[31m✖\u001b[39m \u001b[34mdplyr\u001b[39m::\u001b[32mlag()\u001b[39m             masks \u001b[34mstats\u001b[39m::lag()\n",
            "\u001b[31m✖\u001b[39m \u001b[34mpurrr\u001b[39m::\u001b[32mlift()\u001b[39m            masks \u001b[34mcaret\u001b[39m::lift()\n",
            "\u001b[31m✖\u001b[39m \u001b[34myardstick\u001b[39m::\u001b[32mprecision()\u001b[39m   masks \u001b[34mcaret\u001b[39m::precision()\n",
            "\u001b[31m✖\u001b[39m \u001b[34myardstick\u001b[39m::\u001b[32mrecall()\u001b[39m      masks \u001b[34mcaret\u001b[39m::recall()\n",
            "\u001b[31m✖\u001b[39m \u001b[34myardstick\u001b[39m::\u001b[32msensitivity()\u001b[39m masks \u001b[34mcaret\u001b[39m::sensitivity()\n",
            "\u001b[31m✖\u001b[39m \u001b[34myardstick\u001b[39m::\u001b[32mspecificity()\u001b[39m masks \u001b[34mcaret\u001b[39m::specificity()\n",
            "\u001b[31m✖\u001b[39m \u001b[34mrecipes\u001b[39m::\u001b[32mstep()\u001b[39m          masks \u001b[34mstats\u001b[39m::step()\n",
            "\n",
            "\u001b[1m\u001b[22mNew names:\n",
            "\u001b[36m•\u001b[39m `` -> `...2`\n"
          ]
        },
        {
          "output_type": "display_data",
          "data": {
            "text/html": [
              "<table class=\"dataframe\">\n",
              "<caption>A tibble: 4 × 2</caption>\n",
              "<thead>\n",
              "\t<tr><th scope=col>.pred</th><th scope=col>...2</th></tr>\n",
              "\t<tr><th scope=col>&lt;dbl&gt;</th><th scope=col>&lt;dbl&gt;</th></tr>\n",
              "</thead>\n",
              "<tbody>\n",
              "\t<tr><td>20.88336</td><td>21.0</td></tr>\n",
              "\t<tr><td>14.09782</td><td>14.3</td></tr>\n",
              "\t<tr><td>28.88019</td><td>33.9</td></tr>\n",
              "\t<tr><td>24.00074</td><td>15.8</td></tr>\n",
              "</tbody>\n",
              "</table>\n"
            ],
            "text/markdown": "\nA tibble: 4 × 2\n\n| .pred &lt;dbl&gt; | ...2 &lt;dbl&gt; |\n|---|---|\n| 20.88336 | 21.0 |\n| 14.09782 | 14.3 |\n| 28.88019 | 33.9 |\n| 24.00074 | 15.8 |\n\n",
            "text/latex": "A tibble: 4 × 2\n\\begin{tabular}{ll}\n .pred & ...2\\\\\n <dbl> & <dbl>\\\\\n\\hline\n\t 20.88336 & 21.0\\\\\n\t 14.09782 & 14.3\\\\\n\t 28.88019 & 33.9\\\\\n\t 24.00074 & 15.8\\\\\n\\end{tabular}\n",
            "text/plain": [
              "  .pred    ...2\n",
              "1 20.88336 21.0\n",
              "2 14.09782 14.3\n",
              "3 28.88019 33.9\n",
              "4 24.00074 15.8"
            ]
          },
          "metadata": {}
        }
      ]
    },
    {
      "cell_type": "code",
      "source": [
        "library(GGally)\n",
        "\n",
        "# Pairwise plot of selected variables\n",
        "mtcars %>%\n",
        "  select(mpg, hp, wt, cyl) %>%\n",
        "  ggpairs()"
      ],
      "metadata": {
        "id": "kzn4tIuSRUwO",
        "colab": {
          "base_uri": "https://localhost:8080/",
          "height": 510
        },
        "outputId": "feee5c9f-436e-454b-af37-0e29751677a1"
      },
      "id": "kzn4tIuSRUwO",
      "execution_count": null,
      "outputs": [
        {
          "output_type": "stream",
          "name": "stderr",
          "text": [
            "Registered S3 method overwritten by 'GGally':\n",
            "  method from   \n",
            "  +.gg   ggplot2\n",
            "\n"
          ]
        },
        {
          "output_type": "display_data",
          "data": {
            "text/plain": [
              "plot without title"
            ],
            "image/png": "[encoded data removed]"
          },
          "metadata": {
            "image/png": {
              "width": 420,
              "height": 420
            }
          }
        }
      ]
    },
    {
      "cell_type": "code",
      "source": [
        "?plot\n"
      ],
      "metadata": {
        "id": "gF2LoIQoSnbs"
      },
      "id": "gF2LoIQoSnbs",
      "execution_count": 21,
      "outputs": []
    },
    {
      "cell_type": "code",
      "source": [],
      "metadata": {
        "id": "Nu9pYP7ESqoF"
      },
      "id": "Nu9pYP7ESqoF",
      "execution_count": null,
      "outputs": []
    }
  ],
  "metadata": {
    "kernelspec": {
      "display_name": "R",
      "name": "ir"
    },
    "language_info": {
      "name": "R"
    },
    "colab": {
      "provenance": [],
      "include_colab_link": true
    }
  },
  "nbformat": 4,
  "nbformat_minor": 5
}

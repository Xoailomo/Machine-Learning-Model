{
  "cells": [
    {
      "cell_type": "markdown",
      "metadata": {
        "id": "view-in-github",
        "colab_type": "text"
      },
      "source": [
        "<a href=\"https://colab.research.google.com/github/Xoailomo/Machine-Learning-Model/blob/main/Requirements.ipynb\" target=\"_parent\"><img src=\"https://colab.research.google.com/assets/colab-badge.svg\" alt=\"Open In Colab\"/></a>"
      ]
    },
    {
      "cell_type": "markdown",
      "id": "cbd57730-7ba3-4431-bd4c-e1ba4dcc6443",
      "metadata": {
        "id": "cbd57730-7ba3-4431-bd4c-e1ba4dcc6443"
      },
      "source": [
        "# <h1 align=\"center\"> DSR301 XÂY DỰNG MÔ HÌNH HỌC MÁY. <h3/>"
      ]
    },
    {
      "cell_type": "markdown",
      "id": "a94bca8a-6d1c-494e-b172-cea1e84eaa37",
      "metadata": {
        "id": "a94bca8a-6d1c-494e-b172-cea1e84eaa37"
      },
      "source": [
        "## GROUP: 1+1\n",
        "### Group member: huyền (thuật toán)\n",
        "### Group member: nhi (EDA)\n",
        "### Group member: thân (EDA)\n",
        "### Group member: khánh (EDA)\n",
        "### Group member: khoa (thuật toán)"
      ]
    },
    {
      "cell_type": "markdown",
      "id": "88ab3f3c-3401-4d00-a5ae-9e7f57c52205",
      "metadata": {
        "id": "88ab3f3c-3401-4d00-a5ae-9e7f57c52205"
      },
      "source": [
        "### 1. NHIỆM VỤ\n",
        "  1.1. Tên hoạt động: Xây dựng một mô hình học máy bằng R với dữ liệu tự chọn.\n",
        "- 1.2. Mục tiêu:\n",
        "- Thành thạo quy trình xây dựng một mô hình học máy cơ bản.\n",
        "- Áp dụng kỹ năng xử lý dữ liệu, trực quan hóa, lựa chọn mô hình và đánh giá mô hình.\n",
        "- Thực hành sử dụng R và thư viện học máy phổ biến (như caret, randomForest, e1071, glmnet, xgboost, v.v.).\n",
        "- Rèn kỹ năng trình bày kết quả dưới dạng notebook có thể tái lập (reproducible).\n",
        "### 2. YÊU CẦU CHI TIẾT\n",
        "1.\tChọn một bộ dữ liệu (dataset) phù hợp\n",
        "- Có ít nhất 500 dòng dữ liệu và 5 cột đặc trưng trở lên.\n",
        "- Có thể chọn từ: UCI, Kaggle, OpenML, hoặc các bộ dữ liệu sẵn có trong R (iris, mtcars, airquality, Boston, diamonds, v.v.).\n",
        "2.\tMục tiêu mô hình hóa\n",
        "- Lựa chọn một bài toán phân loại hoặc hồi quy phù hợp với dữ liệu.\n",
        "- Nêu rõ biến mục tiêu (target) và biến đặc trưng (features).\n",
        "3.\tTiền xử lý dữ liệu (data preprocessing)\n",
        "- Kiểm tra thiếu dữ liệu và xử lý.\n",
        "- Chuẩn hóa, biến đổi dữ liệu nếu cần (One-Hot Encoding, Scaling...).\n",
        "- Phân chia tập dữ liệu thành train/test (ví dụ: 70/30 hoặc 80/20).\n",
        "4.\tTrực quan hóa dữ liệu\n",
        "- Trình bày các biểu đồ minh họa (histogram, boxplot, scatterplot, correlation heatmap…).\n",
        "- Phân tích sự tương quan hoặc phân phối các biến.\n",
        "5.\tHuấn luyện mô hình học máy\n",
        "- Áp dụng ít nhất 1 mô hình học máy (ví dụ: linear regression, logistic regression, random forest, decision tree, SVM, kNN, xgboost, …).\n",
        "- Tối ưu hoặc điều chỉnh hyperparameter nếu có thể.\n",
        "6.\tĐánh giá mô hình\n",
        "- Sử dụng các chỉ số đánh giá phù hợp:\n",
        "+ Hồi quy: RMSE, MAE, R²\n",
        "+ Phân loại: Accuracy, Confusion Matrix, Precision/Recall/F1-score, ROC/AUC\n",
        "- Đưa ra nhận xét về hiệu quả mô hình.\n",
        "7.\tGhi chép đầy đủ và rõ ràng trong Notebook\n",
        "- Mã R cần có chú thích, trình bày rõ ràng.\n",
        "- Trình bày phân tích, lý do lựa chọn mô hình, kết luận hợp lý.\n",
        "### 3. YÊU CẦU PROJECT\n",
        "- Viết trên Jupyter Notebook (định dạng .ipynb hoặc .html)\n",
        "- Phải chạy được đầy đủ, không lỗi.\n",
        "- Có mô tả dữ liệu, phân tích kết quả, và kết luận tổng thể.\n",
        "- Nhóm thực hiện thuyết trình sản phẩm với tất cả các thành viên đều tham gia. Thời gian: slot 2 của tuần 9 theo lịch học trên Fap\n",
        "### 4. TIÊU CHÍ CHẤM ĐIỂM (thang 10 điểm)\n",
        "Tiêu chí\tMô tả\tĐiểm\n",
        "1. Lựa chọn và hiểu dữ liệu\tMô tả hợp lý, rõ ràng về bộ dữ liệu\t            1\n",
        "2. Tiền xử lý dữ liệu\tPhân tích, xử lý thiếu dữ liệu và biến đổi phù hợp\t1.5\n",
        "3. Trực quan hóa dữ liệu\tCó biểu đồ, phân tích hình ảnh hóa dữ liệu tốt\t1\n",
        "4. Xây dựng mô hình học máy\tMô hình đúng, phù hợp với dữ liệu\t            1.5\n",
        "5. Đánh giá mô hình\tĐúng phương pháp và giải thích rõ ràng\t                1\n",
        "6. Trình bày & Viết báo cáo\tGhi chú, trình bày dễ hiểu, logic\t            3"
      ]
    }
  ],
  "metadata": {
    "kernelspec": {
      "display_name": "R",
      "name": "ir"
    },
    "language_info": {
      "name": "R"
    },
    "colab": {
      "provenance": [],
      "include_colab_link": true
    }
  },
  "nbformat": 4,
  "nbformat_minor": 5
}
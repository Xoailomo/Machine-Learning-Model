{
  "cells": [
    {
      "cell_type": "markdown",
      "metadata": {
        "id": "view-in-github",
        "colab_type": "text"
      },
      "source": [
        "<a href=\"https://colab.research.google.com/github/Xoailomo/Machine-Learning-Model/blob/main/ml_project_(1).ipynb\" target=\"_parent\"><img src=\"https://colab.research.google.com/assets/colab-badge.svg\" alt=\"Open In Colab\"/></a>"
      ]
    },
    {
      "cell_type": "markdown",
      "id": "cbd57730-7ba3-4431-bd4c-e1ba4dcc6443",
      "metadata": {
        "id": "cbd57730-7ba3-4431-bd4c-e1ba4dcc6443"
      },
      "source": [
        "# <h1 align=\"center\"> Dự đoán Khách hàng Rời bỏ Dịch vụ Viễn thông <h3/>"
      ]
    },
    {
      "cell_type": "markdown",
      "id": "a94bca8a-6d1c-494e-b172-cea1e84eaa37",
      "metadata": {
        "id": "a94bca8a-6d1c-494e-b172-cea1e84eaa37"
      },
      "source": [
        "### **GROUP: 2**\n",
        "**Group member:**\n",
        "1. HE19XXX - Nguyen Yen Nhi\n",
        "2. HE19XXX - Hoang Bao Khanh\n",
        "3. HE18XXX - Nguyen Huu Hoang Than\n",
        "4. HE190252 - Vu Thi Khanh Huyen\n",
        "5. HE194956 - Phan Vinh Khoa"
      ]
    },
    {
      "cell_type": "markdown",
      "id": "0611c2a5",
      "metadata": {
        "id": "0611c2a5"
      },
      "source": [
        "### **Phần 1: Giới thiệu bài toán và Mục tiêu**\n",
        "**Customer Churn** là hiện tượng khách hàng ngừng sử dụng dịch vụ của một công ty. Và cụ thể trong bài toán này là đối với ngành viễn thông. Việc dự đoán những khách hàng có nguy cơ rời bỏ sẽ giúp công ty đưa ra chiến lược giữ chân phù hợp như các chương trình khuyến mãi, cải thiện dịch vụ... từ đó duy trì sự phát triển bền vững\n",
        "\n",
        "**Mục tiêu:**\n",
        "- Xây dựng một mô hình học máy có khả năng dự đoán chính xác một khách hàng có khả năng rời bỏ dịch vụ hay không (Churn = Yes/No).\n",
        "- Thực hiện Phân tích Dữ liệu Khám phá (EDA) để tìm ra các yếu tố (đặc điểm, hành vi) có ảnh hưởng lớn nhất đến quyết định rời bỏ của khách hàng.\n",
        "\n",
        "Bộ dữ liệu [**Telco Customer Churn**](https://www.kaggle.com/datasets/blastchar/telco-customer-churn) thu thập từ Kaggle, chứa thông tin về khách hàng của công ty viễn thông."
      ]
    },
    {
      "cell_type": "markdown",
      "id": "fd2c3e06",
      "metadata": {
        "id": "fd2c3e06"
      },
      "source": [
        "### **Phần 2: Cài đặt và Tải bộ dữ liệu**"
      ]
    },
    {
      "cell_type": "code",
      "execution_count": null,
      "id": "0ace515e",
      "metadata": {
        "vscode": {
          "languageId": "r"
        },
        "id": "0ace515e"
      },
      "outputs": [],
      "source": [
        "# Temporarily suppress warnings\n",
        "options(warn = -1)\n",
        "\n",
        "# List of packages to install\n",
        "# This list includes packages for data manipulation, visualization, and machine learning.\n",
        "packages <- c(\n",
        "  \"tidyverse\",\n",
        "  \"corrplot\",\n",
        "  \"gridExtra\",\n",
        "  \"caret\",\n",
        "  \"rpart\",\n",
        "  \"rpart.plot\",\n",
        "  \"randomForest\",\n",
        "  \"ROSE\",\n",
        "  \"pROC\",\n",
        "  \"knitr\"\n",
        ")\n",
        "\n",
        "# Install and load packages\n",
        "# Check if each package is installed, if not, install it and then load it\n",
        "for (pkg in packages) {\n",
        "  if (!require(pkg, character.only = TRUE)) {\n",
        "    install.packages(pkg, dependencies = TRUE)\n",
        "    library(pkg, character.only = TRUE)\n",
        "  }\n",
        "}"
      ]
    },
    {
      "cell_type": "markdown",
      "id": "ba754888",
      "metadata": {
        "id": "ba754888"
      },
      "source": [
        "### **Phần 3: Load dữ liệu và tìm hiểu cơ bản**"
      ]
    },
    {
      "cell_type": "code",
      "execution_count": null,
      "id": "466bc1ba",
      "metadata": {
        "vscode": {
          "languageId": "r"
        },
        "id": "466bc1ba"
      },
      "outputs": [],
      "source": [
        "# Load the dataset\n",
        "df = read.csv(\"WA_Fn-UseC_-Telco-Customer-Churn.csv\")"
      ]
    },
    {
      "cell_type": "code",
      "execution_count": null,
      "id": "65f09c62",
      "metadata": {
        "vscode": {
          "languageId": "r"
        },
        "id": "65f09c62",
        "outputId": "89c2d088-e7d0-489f-99bb-ac4e039db6d9"
      },
      "outputs": [
        {
          "data": {
            "text/html": [
              "<table class=\"dataframe\">\n",
              "<caption>A data.frame: 6 × 21</caption>\n",
              "<thead>\n",
              "\t<tr><th></th><th scope=col>customerID</th><th scope=col>gender</th><th scope=col>SeniorCitizen</th><th scope=col>Partner</th><th scope=col>Dependents</th><th scope=col>tenure</th><th scope=col>PhoneService</th><th scope=col>MultipleLines</th><th scope=col>InternetService</th><th scope=col>OnlineSecurity</th><th scope=col>⋯</th><th scope=col>DeviceProtection</th><th scope=col>TechSupport</th><th scope=col>StreamingTV</th><th scope=col>StreamingMovies</th><th scope=col>Contract</th><th scope=col>PaperlessBilling</th><th scope=col>PaymentMethod</th><th scope=col>MonthlyCharges</th><th scope=col>TotalCharges</th><th scope=col>Churn</th></tr>\n",
              "\t<tr><th></th><th scope=col>&lt;chr&gt;</th><th scope=col>&lt;chr&gt;</th><th scope=col>&lt;int&gt;</th><th scope=col>&lt;chr&gt;</th><th scope=col>&lt;chr&gt;</th><th scope=col>&lt;int&gt;</th><th scope=col>&lt;chr&gt;</th><th scope=col>&lt;chr&gt;</th><th scope=col>&lt;chr&gt;</th><th scope=col>&lt;chr&gt;</th><th scope=col>⋯</th><th scope=col>&lt;chr&gt;</th><th scope=col>&lt;chr&gt;</th><th scope=col>&lt;chr&gt;</th><th scope=col>&lt;chr&gt;</th><th scope=col>&lt;chr&gt;</th><th scope=col>&lt;chr&gt;</th><th scope=col>&lt;chr&gt;</th><th scope=col>&lt;dbl&gt;</th><th scope=col>&lt;dbl&gt;</th><th scope=col>&lt;chr&gt;</th></tr>\n",
              "</thead>\n",
              "<tbody>\n",
              "\t<tr><th scope=row>1</th><td>7590-VHVEG</td><td>Female</td><td>0</td><td>Yes</td><td>No</td><td> 1</td><td>No </td><td>No phone service</td><td>DSL        </td><td>No </td><td>⋯</td><td>No </td><td>No </td><td>No </td><td>No </td><td>Month-to-month</td><td>Yes</td><td>Electronic check         </td><td>29.85</td><td>  29.85</td><td>No </td></tr>\n",
              "\t<tr><th scope=row>2</th><td>5575-GNVDE</td><td>Male  </td><td>0</td><td>No </td><td>No</td><td>34</td><td>Yes</td><td>No              </td><td>DSL        </td><td>Yes</td><td>⋯</td><td>Yes</td><td>No </td><td>No </td><td>No </td><td>One year      </td><td>No </td><td>Mailed check             </td><td>56.95</td><td>1889.50</td><td>No </td></tr>\n",
              "\t<tr><th scope=row>3</th><td>3668-QPYBK</td><td>Male  </td><td>0</td><td>No </td><td>No</td><td> 2</td><td>Yes</td><td>No              </td><td>DSL        </td><td>Yes</td><td>⋯</td><td>No </td><td>No </td><td>No </td><td>No </td><td>Month-to-month</td><td>Yes</td><td>Mailed check             </td><td>53.85</td><td> 108.15</td><td>Yes</td></tr>\n",
              "\t<tr><th scope=row>4</th><td>7795-CFOCW</td><td>Male  </td><td>0</td><td>No </td><td>No</td><td>45</td><td>No </td><td>No phone service</td><td>DSL        </td><td>Yes</td><td>⋯</td><td>Yes</td><td>Yes</td><td>No </td><td>No </td><td>One year      </td><td>No </td><td>Bank transfer (automatic)</td><td>42.30</td><td>1840.75</td><td>No </td></tr>\n",
              "\t<tr><th scope=row>5</th><td>9237-HQITU</td><td>Female</td><td>0</td><td>No </td><td>No</td><td> 2</td><td>Yes</td><td>No              </td><td>Fiber optic</td><td>No </td><td>⋯</td><td>No </td><td>No </td><td>No </td><td>No </td><td>Month-to-month</td><td>Yes</td><td>Electronic check         </td><td>70.70</td><td> 151.65</td><td>Yes</td></tr>\n",
              "\t<tr><th scope=row>6</th><td>9305-CDSKC</td><td>Female</td><td>0</td><td>No </td><td>No</td><td> 8</td><td>Yes</td><td>Yes             </td><td>Fiber optic</td><td>No </td><td>⋯</td><td>Yes</td><td>No </td><td>Yes</td><td>Yes</td><td>Month-to-month</td><td>Yes</td><td>Electronic check         </td><td>99.65</td><td> 820.50</td><td>Yes</td></tr>\n",
              "</tbody>\n",
              "</table>\n"
            ],
            "text/latex": [
              "A data.frame: 6 × 21\n",
              "\\begin{tabular}{r|lllllllllllllllllllll}\n",
              "  & customerID & gender & SeniorCitizen & Partner & Dependents & tenure & PhoneService & MultipleLines & InternetService & OnlineSecurity & ⋯ & DeviceProtection & TechSupport & StreamingTV & StreamingMovies & Contract & PaperlessBilling & PaymentMethod & MonthlyCharges & TotalCharges & Churn\\\\\n",
              "  & <chr> & <chr> & <int> & <chr> & <chr> & <int> & <chr> & <chr> & <chr> & <chr> & ⋯ & <chr> & <chr> & <chr> & <chr> & <chr> & <chr> & <chr> & <dbl> & <dbl> & <chr>\\\\\n",
              "\\hline\n",
              "\t1 & 7590-VHVEG & Female & 0 & Yes & No &  1 & No  & No phone service & DSL         & No  & ⋯ & No  & No  & No  & No  & Month-to-month & Yes & Electronic check          & 29.85 &   29.85 & No \\\\\n",
              "\t2 & 5575-GNVDE & Male   & 0 & No  & No & 34 & Yes & No               & DSL         & Yes & ⋯ & Yes & No  & No  & No  & One year       & No  & Mailed check              & 56.95 & 1889.50 & No \\\\\n",
              "\t3 & 3668-QPYBK & Male   & 0 & No  & No &  2 & Yes & No               & DSL         & Yes & ⋯ & No  & No  & No  & No  & Month-to-month & Yes & Mailed check              & 53.85 &  108.15 & Yes\\\\\n",
              "\t4 & 7795-CFOCW & Male   & 0 & No  & No & 45 & No  & No phone service & DSL         & Yes & ⋯ & Yes & Yes & No  & No  & One year       & No  & Bank transfer (automatic) & 42.30 & 1840.75 & No \\\\\n",
              "\t5 & 9237-HQITU & Female & 0 & No  & No &  2 & Yes & No               & Fiber optic & No  & ⋯ & No  & No  & No  & No  & Month-to-month & Yes & Electronic check          & 70.70 &  151.65 & Yes\\\\\n",
              "\t6 & 9305-CDSKC & Female & 0 & No  & No &  8 & Yes & Yes              & Fiber optic & No  & ⋯ & Yes & No  & Yes & Yes & Month-to-month & Yes & Electronic check          & 99.65 &  820.50 & Yes\\\\\n",
              "\\end{tabular}\n"
            ],
            "text/markdown": [
              "\n",
              "A data.frame: 6 × 21\n",
              "\n",
              "| <!--/--> | customerID &lt;chr&gt; | gender &lt;chr&gt; | SeniorCitizen &lt;int&gt; | Partner &lt;chr&gt; | Dependents &lt;chr&gt; | tenure &lt;int&gt; | PhoneService &lt;chr&gt; | MultipleLines &lt;chr&gt; | InternetService &lt;chr&gt; | OnlineSecurity &lt;chr&gt; | ⋯ ⋯ | DeviceProtection &lt;chr&gt; | TechSupport &lt;chr&gt; | StreamingTV &lt;chr&gt; | StreamingMovies &lt;chr&gt; | Contract &lt;chr&gt; | PaperlessBilling &lt;chr&gt; | PaymentMethod &lt;chr&gt; | MonthlyCharges &lt;dbl&gt; | TotalCharges &lt;dbl&gt; | Churn &lt;chr&gt; |\n",
              "|---|---|---|---|---|---|---|---|---|---|---|---|---|---|---|---|---|---|---|---|---|---|\n",
              "| 1 | 7590-VHVEG | Female | 0 | Yes | No |  1 | No  | No phone service | DSL         | No  | ⋯ | No  | No  | No  | No  | Month-to-month | Yes | Electronic check          | 29.85 |   29.85 | No  |\n",
              "| 2 | 5575-GNVDE | Male   | 0 | No  | No | 34 | Yes | No               | DSL         | Yes | ⋯ | Yes | No  | No  | No  | One year       | No  | Mailed check              | 56.95 | 1889.50 | No  |\n",
              "| 3 | 3668-QPYBK | Male   | 0 | No  | No |  2 | Yes | No               | DSL         | Yes | ⋯ | No  | No  | No  | No  | Month-to-month | Yes | Mailed check              | 53.85 |  108.15 | Yes |\n",
              "| 4 | 7795-CFOCW | Male   | 0 | No  | No | 45 | No  | No phone service | DSL         | Yes | ⋯ | Yes | Yes | No  | No  | One year       | No  | Bank transfer (automatic) | 42.30 | 1840.75 | No  |\n",
              "| 5 | 9237-HQITU | Female | 0 | No  | No |  2 | Yes | No               | Fiber optic | No  | ⋯ | No  | No  | No  | No  | Month-to-month | Yes | Electronic check          | 70.70 |  151.65 | Yes |\n",
              "| 6 | 9305-CDSKC | Female | 0 | No  | No |  8 | Yes | Yes              | Fiber optic | No  | ⋯ | Yes | No  | Yes | Yes | Month-to-month | Yes | Electronic check          | 99.65 |  820.50 | Yes |\n",
              "\n"
            ],
            "text/plain": [
              "  customerID gender SeniorCitizen Partner Dependents tenure PhoneService\n",
              "1 7590-VHVEG Female 0             Yes     No          1     No          \n",
              "2 5575-GNVDE Male   0             No      No         34     Yes         \n",
              "3 3668-QPYBK Male   0             No      No          2     Yes         \n",
              "4 7795-CFOCW Male   0             No      No         45     No          \n",
              "5 9237-HQITU Female 0             No      No          2     Yes         \n",
              "6 9305-CDSKC Female 0             No      No          8     Yes         \n",
              "  MultipleLines    InternetService OnlineSecurity ⋯ DeviceProtection\n",
              "1 No phone service DSL             No             ⋯ No              \n",
              "2 No               DSL             Yes            ⋯ Yes             \n",
              "3 No               DSL             Yes            ⋯ No              \n",
              "4 No phone service DSL             Yes            ⋯ Yes             \n",
              "5 No               Fiber optic     No             ⋯ No              \n",
              "6 Yes              Fiber optic     No             ⋯ Yes             \n",
              "  TechSupport StreamingTV StreamingMovies Contract       PaperlessBilling\n",
              "1 No          No          No              Month-to-month Yes             \n",
              "2 No          No          No              One year       No              \n",
              "3 No          No          No              Month-to-month Yes             \n",
              "4 Yes         No          No              One year       No              \n",
              "5 No          No          No              Month-to-month Yes             \n",
              "6 No          Yes         Yes             Month-to-month Yes             \n",
              "  PaymentMethod             MonthlyCharges TotalCharges Churn\n",
              "1 Electronic check          29.85            29.85      No   \n",
              "2 Mailed check              56.95          1889.50      No   \n",
              "3 Mailed check              53.85           108.15      Yes  \n",
              "4 Bank transfer (automatic) 42.30          1840.75      No   \n",
              "5 Electronic check          70.70           151.65      Yes  \n",
              "6 Electronic check          99.65           820.50      Yes  "
            ]
          },
          "metadata": {},
          "output_type": "display_data"
        }
      ],
      "source": [
        "# Display the first few rows of the dataset\n",
        "head(df)"
      ]
    },
    {
      "cell_type": "code",
      "execution_count": null,
      "id": "af58ae4d",
      "metadata": {
        "vscode": {
          "languageId": "r"
        },
        "id": "af58ae4d",
        "outputId": "27b95f3f-e5d3-417e-bfb4-25ed17f8aa2b"
      },
      "outputs": [
        {
          "data": {
            "text/html": [
              "<table class=\"dataframe\">\n",
              "<caption>A data.frame: 6 × 21</caption>\n",
              "<thead>\n",
              "\t<tr><th></th><th scope=col>customerID</th><th scope=col>gender</th><th scope=col>SeniorCitizen</th><th scope=col>Partner</th><th scope=col>Dependents</th><th scope=col>tenure</th><th scope=col>PhoneService</th><th scope=col>MultipleLines</th><th scope=col>InternetService</th><th scope=col>OnlineSecurity</th><th scope=col>⋯</th><th scope=col>DeviceProtection</th><th scope=col>TechSupport</th><th scope=col>StreamingTV</th><th scope=col>StreamingMovies</th><th scope=col>Contract</th><th scope=col>PaperlessBilling</th><th scope=col>PaymentMethod</th><th scope=col>MonthlyCharges</th><th scope=col>TotalCharges</th><th scope=col>Churn</th></tr>\n",
              "\t<tr><th></th><th scope=col>&lt;chr&gt;</th><th scope=col>&lt;chr&gt;</th><th scope=col>&lt;int&gt;</th><th scope=col>&lt;chr&gt;</th><th scope=col>&lt;chr&gt;</th><th scope=col>&lt;int&gt;</th><th scope=col>&lt;chr&gt;</th><th scope=col>&lt;chr&gt;</th><th scope=col>&lt;chr&gt;</th><th scope=col>&lt;chr&gt;</th><th scope=col>⋯</th><th scope=col>&lt;chr&gt;</th><th scope=col>&lt;chr&gt;</th><th scope=col>&lt;chr&gt;</th><th scope=col>&lt;chr&gt;</th><th scope=col>&lt;chr&gt;</th><th scope=col>&lt;chr&gt;</th><th scope=col>&lt;chr&gt;</th><th scope=col>&lt;dbl&gt;</th><th scope=col>&lt;dbl&gt;</th><th scope=col>&lt;chr&gt;</th></tr>\n",
              "</thead>\n",
              "<tbody>\n",
              "\t<tr><th scope=row>7038</th><td>2569-WGERO</td><td>Female</td><td>0</td><td>No </td><td>No </td><td>72</td><td>Yes</td><td>No              </td><td>No         </td><td>No internet service</td><td>⋯</td><td>No internet service</td><td>No internet service</td><td>No internet service</td><td>No internet service</td><td>Two year      </td><td>Yes</td><td>Bank transfer (automatic)</td><td> 21.15</td><td>1419.40</td><td>No </td></tr>\n",
              "\t<tr><th scope=row>7039</th><td>6840-RESVB</td><td>Male  </td><td>0</td><td>Yes</td><td>Yes</td><td>24</td><td>Yes</td><td>Yes             </td><td>DSL        </td><td>Yes                </td><td>⋯</td><td>Yes                </td><td>Yes                </td><td>Yes                </td><td>Yes                </td><td>One year      </td><td>Yes</td><td>Mailed check             </td><td> 84.80</td><td>1990.50</td><td>No </td></tr>\n",
              "\t<tr><th scope=row>7040</th><td>2234-XADUH</td><td>Female</td><td>0</td><td>Yes</td><td>Yes</td><td>72</td><td>Yes</td><td>Yes             </td><td>Fiber optic</td><td>No                 </td><td>⋯</td><td>Yes                </td><td>No                 </td><td>Yes                </td><td>Yes                </td><td>One year      </td><td>Yes</td><td>Credit card (automatic)  </td><td>103.20</td><td>7362.90</td><td>No </td></tr>\n",
              "\t<tr><th scope=row>7041</th><td>4801-JZAZL</td><td>Female</td><td>0</td><td>Yes</td><td>Yes</td><td>11</td><td>No </td><td>No phone service</td><td>DSL        </td><td>Yes                </td><td>⋯</td><td>No                 </td><td>No                 </td><td>No                 </td><td>No                 </td><td>Month-to-month</td><td>Yes</td><td>Electronic check         </td><td> 29.60</td><td> 346.45</td><td>No </td></tr>\n",
              "\t<tr><th scope=row>7042</th><td>8361-LTMKD</td><td>Male  </td><td>1</td><td>Yes</td><td>No </td><td> 4</td><td>Yes</td><td>Yes             </td><td>Fiber optic</td><td>No                 </td><td>⋯</td><td>No                 </td><td>No                 </td><td>No                 </td><td>No                 </td><td>Month-to-month</td><td>Yes</td><td>Mailed check             </td><td> 74.40</td><td> 306.60</td><td>Yes</td></tr>\n",
              "\t<tr><th scope=row>7043</th><td>3186-AJIEK</td><td>Male  </td><td>0</td><td>No </td><td>No </td><td>66</td><td>Yes</td><td>No              </td><td>Fiber optic</td><td>Yes                </td><td>⋯</td><td>Yes                </td><td>Yes                </td><td>Yes                </td><td>Yes                </td><td>Two year      </td><td>Yes</td><td>Bank transfer (automatic)</td><td>105.65</td><td>6844.50</td><td>No </td></tr>\n",
              "</tbody>\n",
              "</table>\n"
            ],
            "text/latex": [
              "A data.frame: 6 × 21\n",
              "\\begin{tabular}{r|lllllllllllllllllllll}\n",
              "  & customerID & gender & SeniorCitizen & Partner & Dependents & tenure & PhoneService & MultipleLines & InternetService & OnlineSecurity & ⋯ & DeviceProtection & TechSupport & StreamingTV & StreamingMovies & Contract & PaperlessBilling & PaymentMethod & MonthlyCharges & TotalCharges & Churn\\\\\n",
              "  & <chr> & <chr> & <int> & <chr> & <chr> & <int> & <chr> & <chr> & <chr> & <chr> & ⋯ & <chr> & <chr> & <chr> & <chr> & <chr> & <chr> & <chr> & <dbl> & <dbl> & <chr>\\\\\n",
              "\\hline\n",
              "\t7038 & 2569-WGERO & Female & 0 & No  & No  & 72 & Yes & No               & No          & No internet service & ⋯ & No internet service & No internet service & No internet service & No internet service & Two year       & Yes & Bank transfer (automatic) &  21.15 & 1419.40 & No \\\\\n",
              "\t7039 & 6840-RESVB & Male   & 0 & Yes & Yes & 24 & Yes & Yes              & DSL         & Yes                 & ⋯ & Yes                 & Yes                 & Yes                 & Yes                 & One year       & Yes & Mailed check              &  84.80 & 1990.50 & No \\\\\n",
              "\t7040 & 2234-XADUH & Female & 0 & Yes & Yes & 72 & Yes & Yes              & Fiber optic & No                  & ⋯ & Yes                 & No                  & Yes                 & Yes                 & One year       & Yes & Credit card (automatic)   & 103.20 & 7362.90 & No \\\\\n",
              "\t7041 & 4801-JZAZL & Female & 0 & Yes & Yes & 11 & No  & No phone service & DSL         & Yes                 & ⋯ & No                  & No                  & No                  & No                  & Month-to-month & Yes & Electronic check          &  29.60 &  346.45 & No \\\\\n",
              "\t7042 & 8361-LTMKD & Male   & 1 & Yes & No  &  4 & Yes & Yes              & Fiber optic & No                  & ⋯ & No                  & No                  & No                  & No                  & Month-to-month & Yes & Mailed check              &  74.40 &  306.60 & Yes\\\\\n",
              "\t7043 & 3186-AJIEK & Male   & 0 & No  & No  & 66 & Yes & No               & Fiber optic & Yes                 & ⋯ & Yes                 & Yes                 & Yes                 & Yes                 & Two year       & Yes & Bank transfer (automatic) & 105.65 & 6844.50 & No \\\\\n",
              "\\end{tabular}\n"
            ],
            "text/markdown": [
              "\n",
              "A data.frame: 6 × 21\n",
              "\n",
              "| <!--/--> | customerID &lt;chr&gt; | gender &lt;chr&gt; | SeniorCitizen &lt;int&gt; | Partner &lt;chr&gt; | Dependents &lt;chr&gt; | tenure &lt;int&gt; | PhoneService &lt;chr&gt; | MultipleLines &lt;chr&gt; | InternetService &lt;chr&gt; | OnlineSecurity &lt;chr&gt; | ⋯ ⋯ | DeviceProtection &lt;chr&gt; | TechSupport &lt;chr&gt; | StreamingTV &lt;chr&gt; | StreamingMovies &lt;chr&gt; | Contract &lt;chr&gt; | PaperlessBilling &lt;chr&gt; | PaymentMethod &lt;chr&gt; | MonthlyCharges &lt;dbl&gt; | TotalCharges &lt;dbl&gt; | Churn &lt;chr&gt; |\n",
              "|---|---|---|---|---|---|---|---|---|---|---|---|---|---|---|---|---|---|---|---|---|---|\n",
              "| 7038 | 2569-WGERO | Female | 0 | No  | No  | 72 | Yes | No               | No          | No internet service | ⋯ | No internet service | No internet service | No internet service | No internet service | Two year       | Yes | Bank transfer (automatic) |  21.15 | 1419.40 | No  |\n",
              "| 7039 | 6840-RESVB | Male   | 0 | Yes | Yes | 24 | Yes | Yes              | DSL         | Yes                 | ⋯ | Yes                 | Yes                 | Yes                 | Yes                 | One year       | Yes | Mailed check              |  84.80 | 1990.50 | No  |\n",
              "| 7040 | 2234-XADUH | Female | 0 | Yes | Yes | 72 | Yes | Yes              | Fiber optic | No                  | ⋯ | Yes                 | No                  | Yes                 | Yes                 | One year       | Yes | Credit card (automatic)   | 103.20 | 7362.90 | No  |\n",
              "| 7041 | 4801-JZAZL | Female | 0 | Yes | Yes | 11 | No  | No phone service | DSL         | Yes                 | ⋯ | No                  | No                  | No                  | No                  | Month-to-month | Yes | Electronic check          |  29.60 |  346.45 | No  |\n",
              "| 7042 | 8361-LTMKD | Male   | 1 | Yes | No  |  4 | Yes | Yes              | Fiber optic | No                  | ⋯ | No                  | No                  | No                  | No                  | Month-to-month | Yes | Mailed check              |  74.40 |  306.60 | Yes |\n",
              "| 7043 | 3186-AJIEK | Male   | 0 | No  | No  | 66 | Yes | No               | Fiber optic | Yes                 | ⋯ | Yes                 | Yes                 | Yes                 | Yes                 | Two year       | Yes | Bank transfer (automatic) | 105.65 | 6844.50 | No  |\n",
              "\n"
            ],
            "text/plain": [
              "     customerID gender SeniorCitizen Partner Dependents tenure PhoneService\n",
              "7038 2569-WGERO Female 0             No      No         72     Yes         \n",
              "7039 6840-RESVB Male   0             Yes     Yes        24     Yes         \n",
              "7040 2234-XADUH Female 0             Yes     Yes        72     Yes         \n",
              "7041 4801-JZAZL Female 0             Yes     Yes        11     No          \n",
              "7042 8361-LTMKD Male   1             Yes     No          4     Yes         \n",
              "7043 3186-AJIEK Male   0             No      No         66     Yes         \n",
              "     MultipleLines    InternetService OnlineSecurity      ⋯ DeviceProtection   \n",
              "7038 No               No              No internet service ⋯ No internet service\n",
              "7039 Yes              DSL             Yes                 ⋯ Yes                \n",
              "7040 Yes              Fiber optic     No                  ⋯ Yes                \n",
              "7041 No phone service DSL             Yes                 ⋯ No                 \n",
              "7042 Yes              Fiber optic     No                  ⋯ No                 \n",
              "7043 No               Fiber optic     Yes                 ⋯ Yes                \n",
              "     TechSupport         StreamingTV         StreamingMovies     Contract      \n",
              "7038 No internet service No internet service No internet service Two year      \n",
              "7039 Yes                 Yes                 Yes                 One year      \n",
              "7040 No                  Yes                 Yes                 One year      \n",
              "7041 No                  No                  No                  Month-to-month\n",
              "7042 No                  No                  No                  Month-to-month\n",
              "7043 Yes                 Yes                 Yes                 Two year      \n",
              "     PaperlessBilling PaymentMethod             MonthlyCharges TotalCharges\n",
              "7038 Yes              Bank transfer (automatic)  21.15         1419.40     \n",
              "7039 Yes              Mailed check               84.80         1990.50     \n",
              "7040 Yes              Credit card (automatic)   103.20         7362.90     \n",
              "7041 Yes              Electronic check           29.60          346.45     \n",
              "7042 Yes              Mailed check               74.40          306.60     \n",
              "7043 Yes              Bank transfer (automatic) 105.65         6844.50     \n",
              "     Churn\n",
              "7038 No   \n",
              "7039 No   \n",
              "7040 No   \n",
              "7041 No   \n",
              "7042 Yes  \n",
              "7043 No   "
            ]
          },
          "metadata": {},
          "output_type": "display_data"
        }
      ],
      "source": [
        "# Display the last few rows of the dataset\n",
        "tail(df)"
      ]
    },
    {
      "cell_type": "code",
      "execution_count": null,
      "id": "ca1bfb72",
      "metadata": {
        "vscode": {
          "languageId": "r"
        },
        "id": "ca1bfb72",
        "outputId": "eb9f1727-b2a0-4ae5-ffd5-58d4a1a742bc"
      },
      "outputs": [
        {
          "name": "stdout",
          "output_type": "stream",
          "text": [
            "'data.frame':\t7043 obs. of  21 variables:\n",
            " $ customerID      : chr  \"7590-VHVEG\" \"5575-GNVDE\" \"3668-QPYBK\" \"7795-CFOCW\" ...\n",
            " $ gender          : chr  \"Female\" \"Male\" \"Male\" \"Male\" ...\n",
            " $ SeniorCitizen   : int  0 0 0 0 0 0 0 0 0 0 ...\n",
            " $ Partner         : chr  \"Yes\" \"No\" \"No\" \"No\" ...\n",
            " $ Dependents      : chr  \"No\" \"No\" \"No\" \"No\" ...\n",
            " $ tenure          : int  1 34 2 45 2 8 22 10 28 62 ...\n",
            " $ PhoneService    : chr  \"No\" \"Yes\" \"Yes\" \"No\" ...\n",
            " $ MultipleLines   : chr  \"No phone service\" \"No\" \"No\" \"No phone service\" ...\n",
            " $ InternetService : chr  \"DSL\" \"DSL\" \"DSL\" \"DSL\" ...\n",
            " $ OnlineSecurity  : chr  \"No\" \"Yes\" \"Yes\" \"Yes\" ...\n",
            " $ OnlineBackup    : chr  \"Yes\" \"No\" \"Yes\" \"No\" ...\n",
            " $ DeviceProtection: chr  \"No\" \"Yes\" \"No\" \"Yes\" ...\n",
            " $ TechSupport     : chr  \"No\" \"No\" \"No\" \"Yes\" ...\n",
            " $ StreamingTV     : chr  \"No\" \"No\" \"No\" \"No\" ...\n",
            " $ StreamingMovies : chr  \"No\" \"No\" \"No\" \"No\" ...\n",
            " $ Contract        : chr  \"Month-to-month\" \"One year\" \"Month-to-month\" \"One year\" ...\n",
            " $ PaperlessBilling: chr  \"Yes\" \"No\" \"Yes\" \"No\" ...\n",
            " $ PaymentMethod   : chr  \"Electronic check\" \"Mailed check\" \"Mailed check\" \"Bank transfer (automatic)\" ...\n",
            " $ MonthlyCharges  : num  29.9 57 53.9 42.3 70.7 ...\n",
            " $ TotalCharges    : num  29.9 1889.5 108.2 1840.8 151.7 ...\n",
            " $ Churn           : chr  \"No\" \"No\" \"Yes\" \"No\" ...\n"
          ]
        }
      ],
      "source": [
        "# Display the structure of the dataset\n",
        "str(df)"
      ]
    },
    {
      "cell_type": "markdown",
      "id": "a123a244",
      "metadata": {
        "id": "a123a244"
      },
      "source": [
        "**Nhận xét:**\n",
        "- Dữ liệu có 7043 records và 21 features\n",
        "- Ngoại trừ ```customerID```, ```tenure```, ```MonthlyCharges```, ```TotalCharges```, hầu hết các biến phân loại đang ở dạng ```char```. Chúng ta cần chuyển chúng sang dạng ```factor``` ở bước tiền xử lý\n",
        "- ```SeniorCitizen``` là biến ```int```, nhưng về bản chất là biến phân loại (0 hoặc 1). Chúng ta cũng sẽ chuyển nó thành factor."
      ]
    },
    {
      "cell_type": "markdown",
      "id": "d2136468",
      "metadata": {
        "id": "d2136468"
      },
      "source": [
        "### **Phần 4: Domain Knowledge và EDA**"
      ]
    },
    {
      "cell_type": "markdown",
      "id": "fc5b0d31",
      "metadata": {
        "id": "fc5b0d31"
      },
      "source": [
        "#### **1. Domain Knowledge**"
      ]
    },
    {
      "cell_type": "markdown",
      "id": "965cdeb6",
      "metadata": {
        "id": "965cdeb6"
      },
      "source": [
        "Dựa vào các features mà ở trên ta tổng hợp từ dataset. Ta đi tìm hiểu ý nghĩa của các features đó:"
      ]
    },
    {
      "cell_type": "markdown",
      "id": "01d433cb",
      "metadata": {
        "id": "01d433cb"
      },
      "source": [
        "*   **Thông tin Nhân khẩu học & Nhận dạng:**\n",
        "    *   `customerID`: Mã định danh duy nhất cho mỗi khách hàng.\n",
        "    *   `gender`: Giới tính (Male, Female).\n",
        "    *   `SeniorCitizen`: Cho biết khách hàng có phải là người cao tuổi hay không (1 = Có, 0 = Không).\n",
        "    *   `Partner`: Khách hàng có bạn đời hay không (Yes, No).\n",
        "    *   `Dependents`: Khách hàng có người phụ thuộc (con cái, cha mẹ...) hay không (Yes, No).\n",
        "\n",
        "*   **Thông tin Tài khoản Khách hàng:**\n",
        "    *   `tenure`: Số tháng khách hàng đã sử dụng dịch vụ của công ty. Đây là một chỉ số quan trọng về lòng trung thành.\n",
        "    *   `Contract`: Loại hợp đồng khách hàng đã ký (Month-to-month: hàng tháng, One year: một năm, Two year: hai năm). Hợp đồng dài hạn thường cho thấy sự cam kết cao hơn.\n",
        "    *   `PaperlessBilling`: Khách hàng có sử dụng hóa đơn điện tử không (Yes, No).\n",
        "    *   `PaymentMethod`: Phương thức thanh toán (Electronic check: séc điện tử, Mailed check: séc qua thư, Bank transfer (automatic): chuyển khoản tự động, Credit card (automatic): thẻ tín dụng tự động).\n",
        "    *   `MonthlyCharges`: Chi phí khách hàng phải trả hàng tháng.\n",
        "    *   `TotalCharges`: Tổng số tiền khách hàng đã trả cho công ty.\n",
        "\n",
        "*   **Thông tin về Dịch vụ đã Đăng ký:**\n",
        "    *   `PhoneService`: Khách hàng có đăng ký dịch vụ điện thoại không (Yes, No).\n",
        "    *   `MultipleLines`: Khách hàng có đăng ký nhiều đường dây điện thoại không (Yes, No, No phone service).\n",
        "    *   `InternetService`: Nhà cung cấp dịch vụ internet của khách hàng (DSL, Fiber optic, No).\n",
        "    *   Các cột còn lại là các dịch vụ cộng thêm, cho thấy mức độ \"gắn bó\" của khách hàng với hệ sinh thái của công ty:\n",
        "        *   `OnlineSecurity`: Dịch vụ bảo mật trực tuyến.\n",
        "        *   `OnlineBackup`: Dịch vụ sao lưu trực tuyến.\n",
        "        *   `DeviceProtection`: Dịch vụ bảo vệ thiết bị.\n",
        "        *   `TechSupport`: Dịch vụ hỗ trợ kỹ thuật.\n",
        "        *   `StreamingTV`: Dịch vụ truyền hình trực tuyến.\n",
        "        *   `StreamingMovies`: Dịch vụ xem phim trực tuyến.\n",
        "        *(Giá trị \"No internet service\" cho biết khách hàng không dùng internet của công ty, do đó không thể dùng các dịch vụ cộng thêm này).*\n",
        "\n",
        "*   **Target Variable:**\n",
        "    *   `Churn`: Cho biết khách hàng có rời bỏ hay không (Yes, No). **Đây là cột chúng ta cần dự đoán.**"
      ]
    },
    {
      "cell_type": "markdown",
      "id": "cb3a69d4",
      "metadata": {
        "id": "cb3a69d4"
      },
      "source": [
        "#### **2. Một vài tác vụ xử lý cơ bản ban đầu**"
      ]
    },
    {
      "cell_type": "code",
      "execution_count": null,
      "id": "435b5fd8",
      "metadata": {
        "vscode": {
          "languageId": "r"
        },
        "id": "435b5fd8",
        "outputId": "c404d139-edad-4c5c-a598-a7bbd46cd3f4"
      },
      "outputs": [
        {
          "data": {
            "text/html": [
              "<style>\n",
              ".dl-inline {width: auto; margin:0; padding: 0}\n",
              ".dl-inline>dt, .dl-inline>dd {float: none; width: auto; display: inline-block}\n",
              ".dl-inline>dt::after {content: \":\\0020\"; padding-right: .5ex}\n",
              ".dl-inline>dt:not(:first-of-type) {padding-left: .5ex}\n",
              "</style><dl class=dl-inline><dt>customerID</dt><dd>0</dd><dt>gender</dt><dd>0</dd><dt>SeniorCitizen</dt><dd>0</dd><dt>Partner</dt><dd>0</dd><dt>Dependents</dt><dd>0</dd><dt>tenure</dt><dd>0</dd><dt>PhoneService</dt><dd>0</dd><dt>MultipleLines</dt><dd>0</dd><dt>InternetService</dt><dd>0</dd><dt>OnlineSecurity</dt><dd>0</dd><dt>OnlineBackup</dt><dd>0</dd><dt>DeviceProtection</dt><dd>0</dd><dt>TechSupport</dt><dd>0</dd><dt>StreamingTV</dt><dd>0</dd><dt>StreamingMovies</dt><dd>0</dd><dt>Contract</dt><dd>0</dd><dt>PaperlessBilling</dt><dd>0</dd><dt>PaymentMethod</dt><dd>0</dd><dt>MonthlyCharges</dt><dd>0</dd><dt>TotalCharges</dt><dd>11</dd><dt>Churn</dt><dd>0</dd></dl>\n"
            ],
            "text/latex": [
              "\\begin{description*}\n",
              "\\item[customerID] 0\n",
              "\\item[gender] 0\n",
              "\\item[SeniorCitizen] 0\n",
              "\\item[Partner] 0\n",
              "\\item[Dependents] 0\n",
              "\\item[tenure] 0\n",
              "\\item[PhoneService] 0\n",
              "\\item[MultipleLines] 0\n",
              "\\item[InternetService] 0\n",
              "\\item[OnlineSecurity] 0\n",
              "\\item[OnlineBackup] 0\n",
              "\\item[DeviceProtection] 0\n",
              "\\item[TechSupport] 0\n",
              "\\item[StreamingTV] 0\n",
              "\\item[StreamingMovies] 0\n",
              "\\item[Contract] 0\n",
              "\\item[PaperlessBilling] 0\n",
              "\\item[PaymentMethod] 0\n",
              "\\item[MonthlyCharges] 0\n",
              "\\item[TotalCharges] 11\n",
              "\\item[Churn] 0\n",
              "\\end{description*}\n"
            ],
            "text/markdown": [
              "customerID\n",
              ":   0gender\n",
              ":   0SeniorCitizen\n",
              ":   0Partner\n",
              ":   0Dependents\n",
              ":   0tenure\n",
              ":   0PhoneService\n",
              ":   0MultipleLines\n",
              ":   0InternetService\n",
              ":   0OnlineSecurity\n",
              ":   0OnlineBackup\n",
              ":   0DeviceProtection\n",
              ":   0TechSupport\n",
              ":   0StreamingTV\n",
              ":   0StreamingMovies\n",
              ":   0Contract\n",
              ":   0PaperlessBilling\n",
              ":   0PaymentMethod\n",
              ":   0MonthlyCharges\n",
              ":   0TotalCharges\n",
              ":   11Churn\n",
              ":   0\n",
              "\n"
            ],
            "text/plain": [
              "      customerID           gender    SeniorCitizen          Partner \n",
              "               0                0                0                0 \n",
              "      Dependents           tenure     PhoneService    MultipleLines \n",
              "               0                0                0                0 \n",
              " InternetService   OnlineSecurity     OnlineBackup DeviceProtection \n",
              "               0                0                0                0 \n",
              "     TechSupport      StreamingTV  StreamingMovies         Contract \n",
              "               0                0                0                0 \n",
              "PaperlessBilling    PaymentMethod   MonthlyCharges     TotalCharges \n",
              "               0                0                0               11 \n",
              "           Churn \n",
              "               0 "
            ]
          },
          "metadata": {},
          "output_type": "display_data"
        }
      ],
      "source": [
        "# Check for missing values in each column\n",
        "colSums(is.na(df))"
      ]
    },
    {
      "cell_type": "markdown",
      "id": "8d6cbcc4",
      "metadata": {
        "id": "8d6cbcc4"
      },
      "source": [
        "Có 11 giá trị trong ```TotalCharges``` là NA"
      ]
    },
    {
      "cell_type": "code",
      "execution_count": null,
      "id": "2f7e03ae",
      "metadata": {
        "vscode": {
          "languageId": "r"
        },
        "id": "2f7e03ae",
        "outputId": "f2562222-e444-40b6-8fb6-9870e88c1d59"
      },
      "outputs": [
        {
          "data": {
            "text/html": [
              "<table class=\"dataframe\">\n",
              "<caption>A data.frame: 11 × 4</caption>\n",
              "<thead>\n",
              "\t<tr><th></th><th scope=col>tenure</th><th scope=col>Contract</th><th scope=col>MonthlyCharges</th><th scope=col>TotalCharges</th></tr>\n",
              "\t<tr><th></th><th scope=col>&lt;int&gt;</th><th scope=col>&lt;chr&gt;</th><th scope=col>&lt;dbl&gt;</th><th scope=col>&lt;dbl&gt;</th></tr>\n",
              "</thead>\n",
              "<tbody>\n",
              "\t<tr><th scope=row>489</th><td>0</td><td>Two year</td><td>52.55</td><td>NA</td></tr>\n",
              "\t<tr><th scope=row>754</th><td>0</td><td>Two year</td><td>20.25</td><td>NA</td></tr>\n",
              "\t<tr><th scope=row>937</th><td>0</td><td>Two year</td><td>80.85</td><td>NA</td></tr>\n",
              "\t<tr><th scope=row>1083</th><td>0</td><td>Two year</td><td>25.75</td><td>NA</td></tr>\n",
              "\t<tr><th scope=row>1341</th><td>0</td><td>Two year</td><td>56.05</td><td>NA</td></tr>\n",
              "\t<tr><th scope=row>3332</th><td>0</td><td>Two year</td><td>19.85</td><td>NA</td></tr>\n",
              "\t<tr><th scope=row>3827</th><td>0</td><td>Two year</td><td>25.35</td><td>NA</td></tr>\n",
              "\t<tr><th scope=row>4381</th><td>0</td><td>Two year</td><td>20.00</td><td>NA</td></tr>\n",
              "\t<tr><th scope=row>5219</th><td>0</td><td>One year</td><td>19.70</td><td>NA</td></tr>\n",
              "\t<tr><th scope=row>6671</th><td>0</td><td>Two year</td><td>73.35</td><td>NA</td></tr>\n",
              "\t<tr><th scope=row>6755</th><td>0</td><td>Two year</td><td>61.90</td><td>NA</td></tr>\n",
              "</tbody>\n",
              "</table>\n"
            ],
            "text/latex": [
              "A data.frame: 11 × 4\n",
              "\\begin{tabular}{r|llll}\n",
              "  & tenure & Contract & MonthlyCharges & TotalCharges\\\\\n",
              "  & <int> & <chr> & <dbl> & <dbl>\\\\\n",
              "\\hline\n",
              "\t489 & 0 & Two year & 52.55 & NA\\\\\n",
              "\t754 & 0 & Two year & 20.25 & NA\\\\\n",
              "\t937 & 0 & Two year & 80.85 & NA\\\\\n",
              "\t1083 & 0 & Two year & 25.75 & NA\\\\\n",
              "\t1341 & 0 & Two year & 56.05 & NA\\\\\n",
              "\t3332 & 0 & Two year & 19.85 & NA\\\\\n",
              "\t3827 & 0 & Two year & 25.35 & NA\\\\\n",
              "\t4381 & 0 & Two year & 20.00 & NA\\\\\n",
              "\t5219 & 0 & One year & 19.70 & NA\\\\\n",
              "\t6671 & 0 & Two year & 73.35 & NA\\\\\n",
              "\t6755 & 0 & Two year & 61.90 & NA\\\\\n",
              "\\end{tabular}\n"
            ],
            "text/markdown": [
              "\n",
              "A data.frame: 11 × 4\n",
              "\n",
              "| <!--/--> | tenure &lt;int&gt; | Contract &lt;chr&gt; | MonthlyCharges &lt;dbl&gt; | TotalCharges &lt;dbl&gt; |\n",
              "|---|---|---|---|---|\n",
              "| 489 | 0 | Two year | 52.55 | NA |\n",
              "| 754 | 0 | Two year | 20.25 | NA |\n",
              "| 937 | 0 | Two year | 80.85 | NA |\n",
              "| 1083 | 0 | Two year | 25.75 | NA |\n",
              "| 1341 | 0 | Two year | 56.05 | NA |\n",
              "| 3332 | 0 | Two year | 19.85 | NA |\n",
              "| 3827 | 0 | Two year | 25.35 | NA |\n",
              "| 4381 | 0 | Two year | 20.00 | NA |\n",
              "| 5219 | 0 | One year | 19.70 | NA |\n",
              "| 6671 | 0 | Two year | 73.35 | NA |\n",
              "| 6755 | 0 | Two year | 61.90 | NA |\n",
              "\n"
            ],
            "text/plain": [
              "     tenure Contract MonthlyCharges TotalCharges\n",
              "489  0      Two year 52.55          NA          \n",
              "754  0      Two year 20.25          NA          \n",
              "937  0      Two year 80.85          NA          \n",
              "1083 0      Two year 25.75          NA          \n",
              "1341 0      Two year 56.05          NA          \n",
              "3332 0      Two year 19.85          NA          \n",
              "3827 0      Two year 25.35          NA          \n",
              "4381 0      Two year 20.00          NA          \n",
              "5219 0      One year 19.70          NA          \n",
              "6671 0      Two year 73.35          NA          \n",
              "6755 0      Two year 61.90          NA          "
            ]
          },
          "metadata": {},
          "output_type": "display_data"
        }
      ],
      "source": [
        "# List the columns with missing values\n",
        "df[is.na(df$TotalCharges), c(\"tenure\", \"Contract\", \"MonthlyCharges\", \"TotalCharges\")]"
      ]
    },
    {
      "cell_type": "markdown",
      "id": "fc161cb1",
      "metadata": {
        "id": "fc161cb1"
      },
      "source": [
        "Ta nhận thấy, các khách hàng này đều có ```tenure = 0```, tức là thời gian sử dụng đang bằng 0, tức là họ là khách hàng mới, chưa có kỳ thanh toán nào nên ```TotalCharges``` bị trống là hoàn toàn hợp lý. ```TotalCharges``` là **tổng số tiền tích lũy** mà khách hàng đã trả cho công ty từ lúc bắt đầu sử dụng dịch vụ cho tới thời điểm dữ liệu được thu thập. Và như ta thấy, họ chưa hoàn thành bất kỳ tháng dịch vụ nào nên ta sẽ gán giá trị là **0**"
      ]
    },
    {
      "cell_type": "code",
      "execution_count": null,
      "id": "afd8c829",
      "metadata": {
        "vscode": {
          "languageId": "r"
        },
        "id": "afd8c829"
      },
      "outputs": [],
      "source": [
        "# Convert 'SeniorCitizen' to factor\n",
        "df$SeniorCitizen <- as.factor(df$SeniorCitizen)\n",
        "\n",
        "# 'No internet service' is a special case in some columns, we will convert it to 'No'\n",
        "cols_to_clean <- c('OnlineSecurity', 'OnlineBackup', 'DeviceProtection', 'TechSupport', 'StreamingTV', 'StreamingMovies')\n",
        "for (col in cols_to_clean) {\n",
        "  df[[col]] <- gsub(\"No internet service\", \"No\", df[[col]])\n",
        "}"
      ]
    },
    {
      "cell_type": "markdown",
      "id": "43ff3159",
      "metadata": {
        "id": "43ff3159"
      },
      "source": [
        "#### **3. Quan sát dữ liệu của target ```Churn```**"
      ]
    },
    {
      "cell_type": "code",
      "execution_count": null,
      "id": "9e6dba69",
      "metadata": {
        "vscode": {
          "languageId": "r"
        },
        "id": "9e6dba69",
        "outputId": "3879175f-e99c-4cc2-8a32-8e7828ebf60f"
      },
      "outputs": [
        {
          "data": {
            "image/png": "[encoded data removed]",
            "text/plain": [
              "plot without title"
            ]
          },
          "metadata": {
            "image/png": {
              "height": 420,
              "width": 420
            }
          },
          "output_type": "display_data"
        }
      ],
      "source": [
        "ggplot(df, aes(x = Churn, fill = Churn)) +\n",
        "  geom_bar(width=0.5) +\n",
        "  geom_text(stat='count', aes(label=..count..), vjust=-0.5) +\n",
        "  labs(title = \"Phân phối của biến Churn\",\n",
        "       x = \"Khách hàng có rời bỏ không?\",\n",
        "       y = \"Số lượng\") +\n",
        "  theme_minimal()"
      ]
    },
    {
      "cell_type": "markdown",
      "id": "e7268e9c",
      "metadata": {
        "id": "e7268e9c"
      },
      "source": [
        "Bộ dữ liệu của chúng ta mất cân bằng, với số lượng khách hàng ở lại (No) gấp gần 3 lần số khách hàng rời đi (Yes) - 26.5%. Điều này rất quan trọng và chúng ta sẽ phải giải quyết nó trong giai đoạn xây dựng mô hình."
      ]
    },
    {
      "cell_type": "markdown",
      "id": "17e5513a",
      "metadata": {
        "id": "17e5513a"
      },
      "source": [
        "#### **4. Phân tích mối quan hệ giữa các biến và target (```Churn```)**"
      ]
    },
    {
      "cell_type": "markdown",
      "id": "9040a73e",
      "metadata": {
        "id": "9040a73e"
      },
      "source": [
        "##### Demographic"
      ]
    },
    {
      "cell_type": "code",
      "execution_count": null,
      "id": "2a787488",
      "metadata": {
        "vscode": {
          "languageId": "r"
        },
        "id": "2a787488",
        "outputId": "03b2ca39-ae61-4d61-dd29-6b73ff1bf567"
      },
      "outputs": [
        {
          "data": {
            "image/png": "[encoded data removed]",
            "text/plain": [
              "plot without title"
            ]
          },
          "metadata": {
            "image/png": {
              "height": 420,
              "width": 420
            }
          },
          "output_type": "display_data"
        }
      ],
      "source": [
        "plot1 <- ggplot(df, aes(x=gender, fill=Churn)) + geom_bar(position=\"fill\") + labs(y=\"Tỷ lệ\")\n",
        "plot2 <- ggplot(df, aes(x=SeniorCitizen, fill=Churn)) + geom_bar(position=\"fill\") + labs(y=\"Tỷ lệ\")\n",
        "plot3 <- ggplot(df, aes(x=Partner, fill=Churn)) + geom_bar(position=\"fill\") + labs(y=\"Tỷ lệ\")\n",
        "plot4 <- ggplot(df, aes(x=Dependents, fill=Churn)) + geom_bar(position=\"fill\") + labs(y=\"Tỷ lệ\")\n",
        "\n",
        "grid.arrange(plot1, plot2, plot3, plot4, ncol=2)"
      ]
    },
    {
      "cell_type": "markdown",
      "id": "28d09709",
      "metadata": {
        "id": "28d09709"
      },
      "source": [
        "- Dựa theo giới tính thì tỷ lệ churn giữa nam và nữ không có sự khác biệt\n",
        "- Đối với người cao tuổi có tỷ lệ churn cao hơn so với người không phải cao tuổi\n",
        "- Các yếu tố như có partner hay có dependents không cũng có thể là một yếu tố ảnh hưởng"
      ]
    },
    {
      "cell_type": "markdown",
      "id": "06355612",
      "metadata": {
        "id": "06355612"
      },
      "source": [
        "##### Tenure and Contract"
      ]
    },
    {
      "cell_type": "code",
      "execution_count": null,
      "id": "5b01dd71",
      "metadata": {
        "vscode": {
          "languageId": "r"
        },
        "id": "5b01dd71",
        "outputId": "30d206d8-5e65-4fe6-efec-6ea49bc95ce1"
      },
      "outputs": [
        {
          "data": {
            "image/png": "[encoded data removed]",
            "text/plain": [
              "plot without title"
            ]
          },
          "metadata": {
            "image/png": {
              "height": 420,
              "width": 420
            }
          },
          "output_type": "display_data"
        }
      ],
      "source": [
        "p_tenure <- ggplot(df, aes(x=tenure, fill=Churn)) +\n",
        "            geom_histogram(binwidth=1, position=\"identity\", alpha=0.6) +\n",
        "            facet_wrap(~Churn) +\n",
        "            labs(title=\"Thời gian gắn bó (Tenure) giữa hai nhóm\", subtitle=\"Nhóm rời bỏ hầu hết là khách hàng mới\")\n",
        "\n",
        "p_contract <- ggplot(df, aes(x=Contract, fill=Churn)) +\n",
        "              geom_bar(position=\"fill\") +\n",
        "              labs(y=\"Tỷ lệ Churn\", title=\"Loại hợp đồng: Manh mối VÀNG!\",\n",
        "                   subtitle=\"Hợp đồng tháng-qua-tháng có tỷ lệ rời bỏ cực cao\")\n",
        "\n",
        "grid.arrange(p_tenure, p_contract, nrow=2)"
      ]
    },
    {
      "cell_type": "markdown",
      "id": "3e4bdad8",
      "metadata": {
        "id": "3e4bdad8"
      },
      "source": [
        "- Dựa theo hình của tenure. Khách hàng rời bỏ chủ yếu là khách hàng mới.\n",
        "- Còn nếu ta quan sát Contract, tỷ lệ rời bỏ của hợp đồng Month-to-month cao hơn hẳn so với những khách hàng ký hợp đồng dài hạn (1 hoặc 2 năm) gần như không rời đi."
      ]
    },
    {
      "cell_type": "code",
      "execution_count": null,
      "id": "82ebce67",
      "metadata": {
        "vscode": {
          "languageId": "r"
        },
        "id": "82ebce67",
        "outputId": "6f7c8208-f055-43a8-8089-1b9d5476cc5f"
      },
      "outputs": [
        {
          "data": {
            "image/png": "[encoded data removed]",
            "text/plain": [
              "plot without title"
            ]
          },
          "metadata": {
            "image/png": {
              "height": 420,
              "width": 420
            }
          },
          "output_type": "display_data"
        }
      ],
      "source": [
        "p_monthly <- ggplot(df, aes(x=MonthlyCharges, fill=Churn)) +\n",
        "             geom_density(alpha=0.7) +\n",
        "             labs(title=\"Phân tích Phí Hàng Tháng (MonthlyCharges)\",\n",
        "                  subtitle=\"Nhóm rời bỏ có xu hướng trả phí cao hơn\")\n",
        "\n",
        "p_total <- ggplot(df, aes(x=TotalCharges, fill=Churn)) +\n",
        "           geom_density(alpha=0.7) + xlim(0, 9000) + # Giới hạn x để dễ nhìn\n",
        "           labs(title=\"Phân tích Tổng Chi Phí (TotalCharges)\",\n",
        "                subtitle=\"Nhưng tổng giá trị họ mang lại thì rất thấp\")\n",
        "\n",
        "grid.arrange(p_monthly, p_total, ncol=1)"
      ]
    },
    {
      "cell_type": "code",
      "execution_count": null,
      "id": "7d301fd2",
      "metadata": {
        "vscode": {
          "languageId": "r"
        },
        "id": "7d301fd2",
        "outputId": "d2a223e1-47f4-4efd-e6d8-8c54dc6de296"
      },
      "outputs": [
        {
          "data": {
            "image/png": "[encoded data removed]",
            "text/plain": [
              "plot without title"
            ]
          },
          "metadata": {
            "image/png": {
              "height": 420,
              "width": 420
            }
          },
          "output_type": "display_data"
        }
      ],
      "source": [
        "p_iservice <- ggplot(df, aes(x=InternetService, fill=Churn)) +\n",
        "              geom_bar(position=\"fill\") +\n",
        "              labs(y=\"Tỷ lệ Churn\", title=\"Dịch vụ Internet: Cáp quang là điểm nóng\")\n",
        "\n",
        "p_is_price <- ggplot(df, aes(x=InternetService, y=MonthlyCharges, fill=InternetService)) +\n",
        "              geom_boxplot() +\n",
        "              labs(y=\"Phí hàng tháng\", title=\"So sánh giá các gói Internet\",\n",
        "                   subtitle=\"Cáp quang có mức giá cao và biến động lớn\") +\n",
        "              theme(legend.position = \"none\")\n",
        "\n",
        "grid.arrange(p_iservice, p_is_price, ncol=1)"
      ]
    },
    {
      "cell_type": "markdown",
      "id": "9d155fba",
      "metadata": {
        "id": "9d155fba"
      },
      "source": [
        "- Yếu tố về **contract** là một yếu tố cực kỳ quan trọng. Ta sẽ thấy khách hàng với hợp đồng dài hạn hơn, tỷ lệ rời bỏ dịch vụ sẽ thấp hơn.\n",
        "- Còn đối với"
      ]
    },
    {
      "cell_type": "code",
      "execution_count": null,
      "id": "718d68ae",
      "metadata": {
        "vscode": {
          "languageId": "r"
        },
        "id": "718d68ae",
        "outputId": "be508918-a4b1-42e0-bdd2-d95bf448dc62"
      },
      "outputs": [
        {
          "data": {
            "image/png": "[encoded data removed]",
            "text/plain": [
              "plot without title"
            ]
          },
          "metadata": {
            "image/png": {
              "height": 420,
              "width": 420
            }
          },
          "output_type": "display_data"
        }
      ],
      "source": [
        "# Phân tích các dịch vụ cộng thêm\n",
        "plot_sec <- ggplot(df, aes(x=OnlineSecurity, fill=Churn)) + geom_bar(position=\"fill\") + labs(y=\"Tỷ lệ\", title=\"Online Security\")\n",
        "plot_sup <- ggplot(df, aes(x=TechSupport, fill=Churn)) + geom_bar(position=\"fill\") + labs(y=\"Tỷ lệ\", title=\"Tech Support\")\n",
        "plot_bak <- ggplot(df, aes(x=OnlineBackup, fill=Churn)) + geom_bar(position=\"fill\") + labs(y=\"Tỷ lệ\", title=\"Online Backup\")\n",
        "plot_dev <- ggplot(df, aes(x=DeviceProtection, fill=Churn)) + geom_bar(position=\"fill\") + labs(y=\"Tỷ lệ\", title=\"Device Protection\")\n",
        "\n",
        "grid.arrange(plot_sec, plot_sup, plot_bak, plot_dev, ncol=2)"
      ]
    },
    {
      "cell_type": "code",
      "execution_count": null,
      "id": "ecfb4e87",
      "metadata": {
        "vscode": {
          "languageId": "r"
        },
        "id": "ecfb4e87",
        "outputId": "be596393-c33f-41d7-bd1c-1b9268dfe67c"
      },
      "outputs": [
        {
          "data": {
            "image/png": "[encoded data removed]",
            "text/plain": [
              "plot without title"
            ]
          },
          "metadata": {
            "image/png": {
              "height": 420,
              "width": 420
            }
          },
          "output_type": "display_data"
        }
      ],
      "source": [
        "# Biểu đồ 7: PhoneService và MultipleLines\n",
        "p_phone <- ggplot(df, aes(x=PhoneService, fill=Churn)) +\n",
        "           geom_bar(position=\"fill\") +\n",
        "           labs(y=\"Tỷ lệ Churn\", title=\"Dịch vụ Điện thoại (PhoneService)\")\n",
        "\n",
        "p_multi <- ggplot(df, aes(x=MultipleLines, fill=Churn)) +\n",
        "           geom_bar(position=\"fill\") +\n",
        "           labs(y=\"Tỷ lệ Churn\", title=\"Nhiều đường dây (MultipleLines)\")\n",
        "\n",
        "grid.arrange(p_phone, p_multi, ncol=2)"
      ]
    },
    {
      "cell_type": "code",
      "execution_count": null,
      "id": "c152e48d",
      "metadata": {
        "vscode": {
          "languageId": "r"
        },
        "id": "c152e48d",
        "outputId": "e820340b-1fba-4bf6-9c65-8e92179ee057"
      },
      "outputs": [
        {
          "data": {
            "image/png": "[encoded data removed]",
            "text/plain": [
              "plot without title"
            ]
          },
          "metadata": {
            "image/png": {
              "height": 420,
              "width": 420
            }
          },
          "output_type": "display_data"
        }
      ],
      "source": [
        "# Biểu đồ 8: StreamingTV và StreamingMovies\n",
        "p_tv <- ggplot(df, aes(x=StreamingTV, fill=Churn)) +\n",
        "        geom_bar(position=\"fill\") +\n",
        "        labs(y=\"Tỷ lệ Churn\", title=\"Dịch vụ Streaming TV\")\n",
        "\n",
        "p_movie <- ggplot(df, aes(x=StreamingMovies, fill=Churn)) +\n",
        "           geom_bar(position=\"fill\") +\n",
        "           labs(y=\"Tỷ lệ Churn\", title=\"Dịch vụ Streaming Phim\")\n",
        "\n",
        "grid.arrange(p_tv, p_movie, ncol=2)"
      ]
    },
    {
      "cell_type": "code",
      "execution_count": null,
      "id": "eabcdf0c",
      "metadata": {
        "vscode": {
          "languageId": "r"
        },
        "id": "eabcdf0c",
        "outputId": "28cd4809-9015-4e6e-f846-ba8b114de6ec"
      },
      "outputs": [
        {
          "data": {
            "image/png": "[encoded data removed]",
            "text/plain": [
              "plot without title"
            ]
          },
          "metadata": {
            "image/png": {
              "height": 420,
              "width": 420
            }
          },
          "output_type": "display_data"
        }
      ],
      "source": [
        "# Biểu đồ 9: PaperlessBilling\n",
        "ggplot(df, aes(x = PaperlessBilling, fill = Churn)) +\n",
        "  geom_bar(position = \"fill\", width=0.6) +\n",
        "  labs(y = \"Tỷ lệ Churn\", title = \"Tỷ lệ Churn theo Hóa đơn Điện tử (PaperlessBilling)\")"
      ]
    },
    {
      "cell_type": "markdown",
      "id": "f8ee33e2",
      "metadata": {
        "id": "f8ee33e2"
      },
      "source": [
        "**5. Phân tích tương quan giữa các biến số**"
      ]
    },
    {
      "cell_type": "code",
      "execution_count": null,
      "id": "71670004",
      "metadata": {
        "vscode": {
          "languageId": "r"
        },
        "id": "71670004",
        "outputId": "ffe8e8a8-28d3-411e-d570-050844faafa5"
      },
      "outputs": [
        {
          "data": {
            "image/png": "[encoded data removed]",
            "text/plain": [
              "Plot with title \"\""
            ]
          },
          "metadata": {
            "image/png": {
              "height": 420,
              "width": 420
            }
          },
          "output_type": "display_data"
        }
      ],
      "source": [
        "# Chọn các biến số\n",
        "numeric_vars <- df[, c(\"tenure\", \"MonthlyCharges\", \"TotalCharges\")]\n",
        "\n",
        "# Tính ma trận tương quan\n",
        "cor_matrix <- cor(numeric_vars, use=\"complete.obs\")\n",
        "\n",
        "# Trực quan hóa ma trận tương quan\n",
        "corrplot(cor_matrix, method=\"color\", type=\"upper\", order=\"hclust\",\n",
        "         addCoef.col = \"black\", tl.col=\"black\", tl.srt=45, sig.level = 0.01, insig = \"blank\")"
      ]
    },
    {
      "cell_type": "markdown",
      "id": "76b1a0b9",
      "metadata": {
        "id": "76b1a0b9"
      },
      "source": [
        "1.  **Tenure và TotalCharges (Tương quan: 0.83 - Rất mạnh):**\n",
        "    *   **Quan sát:** Đây là ô màu xanh dương đậm nhất, với hệ số tương quan lên tới 0.83.\n",
        "    *   **Diễn giải:** Đây là một manh mối **rõ như ban ngày và hoàn toàn hợp lý**. Nó nói rằng: **\"Khách hàng ở càng lâu (`tenure` cao) thì tổng số tiền họ đã trả (`TotalCharges`) càng lớn.\"** Điều này khẳng định dữ liệu của chúng ta nhất quán và đáng tin cậy.\n",
        "    *   **Cảnh báo cho mô hình:** Mối tương quan rất cao này là một lá cờ đỏ cho hiện tượng **đa cộng tuyến (multicollinearity)**. Nếu chúng ta đưa cả hai biến này vào một số mô hình (như Hồi quy Logistic), mô hình có thể bị \"bối rối\" vì không biết nên phân bổ tầm quan trọng cho biến nào. Chúng gần như đang kể cùng một câu chuyện.\n",
        "\n",
        "2.  **MonthlyCharges và TotalCharges (Tương quan: 0.65 - Mạnh):**\n",
        "    *   **Quan sát:** Một mối tương quan dương mạnh, nhưng không bằng cặp trên.\n",
        "    *   **Diễn giải:** Cũng rất logic: **\"Những khách hàng trả phí hàng tháng cao hơn thì cũng có xu hướng tích lũy tổng chi phí cao hơn.\"**\n",
        "    *   **Cảnh báo cho mô hình:** Điều này càng củng cố thêm lo ngại về đa cộng tuyến. Biến `TotalCharges` có vẻ như là \"họ hàng gần\" của cả `tenure` và `MonthlyCharges`. Về cơ bản, `TotalCharges ≈ tenure * MonthlyCharges` (một cách xấp xỉ).\n",
        "\n",
        "3.  **Tenure và MonthlyCharges (Tương quan: 0.25 - Yếu):**\n",
        "    *   **Quan sát:** Mối tương quan dương nhưng khá yếu. Ô màu rất nhạt.\n",
        "    *   **Diễn giải:** Đây là một manh mối **tinh vi và thú vị**. Nó cho thấy có một xu hướng nhỏ là \"khách hàng lâu năm có xu hướng trả phí hàng tháng cao hơn một chút\", nhưng không phải lúc nào cũng đúng. Có thể là do khách hàng trung thành có xu hướng nâng cấp gói cước, hoặc công ty tăng giá theo thời gian.\n",
        "    *   **Ý nghĩa cho mô hình:** Vì tương quan yếu, hai biến này cung cấp những thông tin phần lớn là **độc lập** với nhau. Đây là một tin tốt! Chúng ta có thể tự tin sử dụng cả hai để cung cấp hai góc nhìn khác nhau cho mô hình: một về lòng trung thành (`tenure`), một về giá trị gói cước hiện tại (`MonthlyCharges`).\n",
        "\n",
        "**Kết luận của Chương 5 và Kế hoạch hành động:**\n",
        "\n",
        "Cuộc điều tra mối quan hệ nội bộ đã phát hiện ra một vấn đề tiềm ẩn: **Đa cộng tuyến giữa `tenure` và `TotalCharges`**.\n",
        "\n",
        "Để mô hình của chúng ta hoạt động hiệu quả và dễ diễn giải hơn, chúng ta cần đưa ra một quyết định chiến lược:\n",
        "\n",
        "*   **Hành động đề xuất:** **Loại bỏ biến `TotalCharges`** ra khỏi danh sách các biến đặc trưng khi huấn luyện mô hình.\n",
        "*   **Lý do:**\n",
        "    *   `TotalCharges` mang thông tin gần như trùng lặp với `tenure`.\n",
        "    *   `tenure` là một biến gốc, trực tiếp đo lường lòng trung thành và dễ hiểu hơn.\n",
        "    *   `MonthlyCharges` đo lường giá trị hiện tại của gói cước, một thông tin quan trọng và độc lập hơn."
      ]
    },
    {
      "cell_type": "markdown",
      "id": "61ff992a",
      "metadata": {
        "id": "61ff992a"
      },
      "source": [
        "--------------"
      ]
    },
    {
      "cell_type": "markdown",
      "id": "67318a05",
      "metadata": {
        "id": "67318a05"
      },
      "source": [
        "#### **1. Tổng quan**\n",
        "\n",
        "Báo cáo này trình bày kết quả từ quá trình Phân tích Dữ liệu Khám phá (Exploratory Data Analysis - EDA) trên bộ dữ liệu \"Telco Customer Churn\". Mục tiêu chính của phân tích là xác định các đặc điểm và yếu tố chính có mối tương quan mạnh mẽ với tỷ lệ rời bỏ (churn) của khách hàng. Kết quả phân tích cho thấy tỷ lệ rời bỏ chung là **26.5%**, một con số đáng kể đòi hỏi sự xem xét kỹ lưỡng để đưa ra các giải pháp kinh doanh phù hợp.\n",
        "\n",
        "Phân tích chỉ ra rằng sự rời bỏ không phải là kết quả của một yếu tố đơn lẻ mà là sự cộng hưởng của nhiều yếu tố liên quan đến cam kết hợp đồng, giá trị dịch vụ cảm nhận, và đặc điểm nhân khẩu học của khách hàng.\n",
        "\n",
        "#### **2. Các Yếu tố Chính Góp phần vào Tỷ lệ Rời bỏ**\n",
        "\n",
        "Qua quá trình phân tích, chúng tôi đã xác định được một số nhóm yếu tố có ảnh hưởng rõ rệt nhất.\n",
        "\n",
        "##### **2.1. Yếu tố Cam kết Hợp đồng và Thanh toán**\n",
        "\n",
        "Đây được xác định là nhóm yếu tố có tác động mạnh mẽ nhất đến quyết định ở lại hay rời đi của khách hàng.\n",
        "\n",
        "*   **Loại hợp đồng (`Contract`):** Khách hàng sử dụng **hợp đồng tháng-qua-tháng (Month-to-month)** có tỷ lệ rời bỏ cao vượt trội (trên 42%) so với khách hàng sử dụng hợp đồng một năm (khoảng 11%) và hai năm (dưới 3%). Điều này cho thấy sự thiếu cam kết dài hạn là yếu tố rủi ro lớn nhất.\n",
        "*   **Thời gian sử dụng (`tenure`):** Có mối tương quan âm mạnh mẽ giữa thời gian sử dụng và tỷ lệ rời bỏ. Phần lớn khách hàng rời bỏ có `tenure` dưới 10 tháng, đặc biệt tập trung trong những tháng đầu tiên. Ngược lại, khách hàng trung thành thường có `tenure` trên 60 tháng.\n",
        "*   **Phương thức thanh toán (`PaymentMethod`):** Khách hàng thanh toán bằng **séc điện tử (Electronic check)** có tỷ lệ rời bỏ cao hơn hẳn các phương thức thanh toán tự động khác như chuyển khoản ngân hàng hoặc thẻ tín dụng. Các phương thức thủ công có thể tạo ra điểm \"ma sát\", khiến khách hàng cân nhắc lại chi phí mỗi kỳ thanh toán.\n",
        "\n",
        "##### **2.2. Yếu tố Dịch vụ và Giá trị Cảm nhận**\n",
        "\n",
        "Chất lượng và giá cả của dịch vụ là các yếu tố quan trọng thứ hai, đặc biệt là các dịch vụ liên quan đến Internet.\n",
        "\n",
        "*   **Dịch vụ Internet (`InternetService`):** Khách hàng sử dụng dịch vụ **Internet cáp quang (Fiber optic)** có tỷ lệ rời bỏ cao hơn đáng kể so với người dùng DSL và những người không sử dụng dịch vụ Internet của công ty.\n",
        "*   **Chi phí hàng tháng (`MonthlyCharges`):** Phân tích cho thấy nhóm khách hàng rời bỏ có xu hướng chi trả mức phí hàng tháng cao hơn, điều này tương ứng với chi phí cao của dịch vụ cáp quang.\n",
        "*   **Dịch vụ Giá trị gia tăng:** Những khách hàng **không đăng ký** các dịch vụ hỗ trợ và bảo vệ như **Bảo mật trực tuyến (`OnlineSecurity`)** và **Hỗ trợ kỹ thuật (`TechSupport`)** có tỷ lệ rời bỏ cao gấp 2-3 lần so với những người có đăng ký. Điều này cho thấy các dịch vụ này đóng vai trò quan trọng trong việc tăng cường sự gắn kết và giá trị cảm nhận của khách hàng.\n",
        "\n",
        "##### **2.3. Yếu tố Nhân khẩu học**\n",
        "\n",
        "Một số đặc điểm nhân khẩu học cũng cho thấy mối liên hệ với tỷ lệ rời bỏ.\n",
        "\n",
        "*   **Tình trạng cư trú:** Khách hàng **không có bạn đời (`Partner`)** và/hoặc **không có người phụ thuộc (`Dependents`)** có xu hướng rời bỏ cao hơn.\n",
        "*   **Tuổi tác:** **Người cao tuổi (`SeniorCitizen`)** có tỷ lệ rời bỏ cao hơn nhóm khách hàng trẻ tuổi.\n",
        "\n",
        "#### **3. Phác thảo Chân dung Khách hàng có Nguy cơ Rời bỏ Cao**\n",
        "\n",
        "Dựa trên các phân tích trên, chúng tôi có thể phác thảo hồ sơ của một khách hàng có nguy cơ rời bỏ cao như sau:\n",
        "\n",
        "*   Là một khách hàng tương đối **mới** (tenure thấp).\n",
        "*   Đang sử dụng **hợp đồng tháng-qua-tháng (Month-to-Month)**.\n",
        "*   Đăng ký dịch vụ **Internet cáp quang** với **mức phí hàng tháng cao**.\n",
        "*   **Không sử dụng** các dịch vụ cộng thêm mang tính bảo vệ và hỗ trợ (ví dụ: Online Security, Tech Support).\n",
        "*   Thanh toán qua **séc điện tử (Electronic check)**.\n",
        "*   Có thể là **người cao tuổi** hoặc người **sống độc thân**."
      ]
    },
    {
      "cell_type": "markdown",
      "id": "9a1fbcdf",
      "metadata": {
        "id": "9a1fbcdf"
      },
      "source": [
        "### **Phần 5: Chuẩn bị dữ liệu cho mô hình**"
      ]
    },
    {
      "cell_type": "markdown",
      "id": "7067b0f6",
      "metadata": {
        "id": "7067b0f6"
      },
      "source": [
        "### **5.1. Lựa chọn các biến đặc trưng cuối cùng**\n",
        "\n",
        "*   **Loại bỏ `customerID`:** Cột này là mã định danh, không có giá trị dự đoán.\n",
        "*   **Loại bỏ `TotalCharges`:** Như đã phân tích ở ma trận tương quan, `TotalCharges` có tương quan rất cao với `tenure` (0.83), gây ra hiện tượng đa cộng tuyến. Chúng ta giữ lại `tenure` (đo lường lòng trung thành) và `MonthlyCharges` (đo lường chi phí hiện tại), và loại bỏ `TotalCharges` để mô hình ổn định và dễ diễn giải hơn."
      ]
    },
    {
      "cell_type": "code",
      "execution_count": null,
      "id": "40674e80",
      "metadata": {
        "vscode": {
          "languageId": "r"
        },
        "id": "40674e80",
        "outputId": "b42fb31c-acf8-432a-acbc-a6942f187078"
      },
      "outputs": [
        {
          "name": "stdout",
          "output_type": "stream",
          "text": [
            "Kiểu dữ liệu sau khi chuyển đổi:\n"
          ]
        },
        {
          "data": {
            "text/html": [
              "<style>\n",
              ".dl-inline {width: auto; margin:0; padding: 0}\n",
              ".dl-inline>dt, .dl-inline>dd {float: none; width: auto; display: inline-block}\n",
              ".dl-inline>dt::after {content: \":\\0020\"; padding-right: .5ex}\n",
              ".dl-inline>dt:not(:first-of-type) {padding-left: .5ex}\n",
              "</style><dl class=dl-inline><dt>gender</dt><dd>'factor'</dd><dt>SeniorCitizen</dt><dd>'factor'</dd><dt>Partner</dt><dd>'factor'</dd><dt>Dependents</dt><dd>'factor'</dd><dt>tenure</dt><dd>'integer'</dd><dt>PhoneService</dt><dd>'factor'</dd><dt>MultipleLines</dt><dd>'factor'</dd><dt>InternetService</dt><dd>'factor'</dd><dt>OnlineSecurity</dt><dd>'factor'</dd><dt>OnlineBackup</dt><dd>'factor'</dd><dt>DeviceProtection</dt><dd>'factor'</dd><dt>TechSupport</dt><dd>'factor'</dd><dt>StreamingTV</dt><dd>'factor'</dd><dt>StreamingMovies</dt><dd>'factor'</dd><dt>Contract</dt><dd>'factor'</dd><dt>PaperlessBilling</dt><dd>'factor'</dd><dt>PaymentMethod</dt><dd>'factor'</dd><dt>MonthlyCharges</dt><dd>'numeric'</dd><dt>Churn</dt><dd>'factor'</dd></dl>\n"
            ],
            "text/latex": [
              "\\begin{description*}\n",
              "\\item[gender] 'factor'\n",
              "\\item[SeniorCitizen] 'factor'\n",
              "\\item[Partner] 'factor'\n",
              "\\item[Dependents] 'factor'\n",
              "\\item[tenure] 'integer'\n",
              "\\item[PhoneService] 'factor'\n",
              "\\item[MultipleLines] 'factor'\n",
              "\\item[InternetService] 'factor'\n",
              "\\item[OnlineSecurity] 'factor'\n",
              "\\item[OnlineBackup] 'factor'\n",
              "\\item[DeviceProtection] 'factor'\n",
              "\\item[TechSupport] 'factor'\n",
              "\\item[StreamingTV] 'factor'\n",
              "\\item[StreamingMovies] 'factor'\n",
              "\\item[Contract] 'factor'\n",
              "\\item[PaperlessBilling] 'factor'\n",
              "\\item[PaymentMethod] 'factor'\n",
              "\\item[MonthlyCharges] 'numeric'\n",
              "\\item[Churn] 'factor'\n",
              "\\end{description*}\n"
            ],
            "text/markdown": [
              "gender\n",
              ":   'factor'SeniorCitizen\n",
              ":   'factor'Partner\n",
              ":   'factor'Dependents\n",
              ":   'factor'tenure\n",
              ":   'integer'PhoneService\n",
              ":   'factor'MultipleLines\n",
              ":   'factor'InternetService\n",
              ":   'factor'OnlineSecurity\n",
              ":   'factor'OnlineBackup\n",
              ":   'factor'DeviceProtection\n",
              ":   'factor'TechSupport\n",
              ":   'factor'StreamingTV\n",
              ":   'factor'StreamingMovies\n",
              ":   'factor'Contract\n",
              ":   'factor'PaperlessBilling\n",
              ":   'factor'PaymentMethod\n",
              ":   'factor'MonthlyCharges\n",
              ":   'numeric'Churn\n",
              ":   'factor'\n",
              "\n"
            ],
            "text/plain": [
              "          gender    SeniorCitizen          Partner       Dependents \n",
              "        \"factor\"         \"factor\"         \"factor\"         \"factor\" \n",
              "          tenure     PhoneService    MultipleLines  InternetService \n",
              "       \"integer\"         \"factor\"         \"factor\"         \"factor\" \n",
              "  OnlineSecurity     OnlineBackup DeviceProtection      TechSupport \n",
              "        \"factor\"         \"factor\"         \"factor\"         \"factor\" \n",
              "     StreamingTV  StreamingMovies         Contract PaperlessBilling \n",
              "        \"factor\"         \"factor\"         \"factor\"         \"factor\" \n",
              "   PaymentMethod   MonthlyCharges            Churn \n",
              "        \"factor\"        \"numeric\"         \"factor\" "
            ]
          },
          "metadata": {},
          "output_type": "display_data"
        }
      ],
      "source": [
        "# Loại bỏ các cột không cần thiết\n",
        "df_model <- df %>%\n",
        "  select(-customerID, -TotalCharges)\n",
        "\n",
        "# >>> BƯỚC SỬA LỖI QUAN TRỌNG <<<\n",
        "# Chuyển đổi tất cả các cột 'character' thành 'factor'\n",
        "# Hàm ROSE yêu cầu các biến phân loại phải ở định dạng factor.\n",
        "df_model <- df_model %>%\n",
        "  mutate(across(where(is.character), as.factor))\n",
        "\n",
        "# Kiểm tra lại kiểu dữ liệu để đảm bảo không còn cột 'character' nào\n",
        "cat(\"Kiểu dữ liệu sau khi chuyển đổi:\\n\")\n",
        "sapply(df_model, class)"
      ]
    },
    {
      "cell_type": "markdown",
      "id": "f1c726a8",
      "metadata": {
        "id": "f1c726a8"
      },
      "source": [
        "### **5.2. Phân chia Dữ liệu (Train/Test Split)**\n",
        "\n",
        "Chúng ta sẽ chia dữ liệu thành hai phần:\n",
        "*   **Tập huấn luyện (Training Set - 80%):** Dùng để \"dạy\" cho mô hình.\n",
        "*   **Tập kiểm thử (Test Set - 20%):** Dữ liệu mà mô hình chưa từng thấy, dùng để đánh giá hiệu năng cuối cùng một cách khách quan.\n",
        "\n",
        "**Quan trọng:** Chúng ta sẽ sử dụng phương pháp **chia có phân tầng (stratified sampling)** theo biến `Churn`. Điều này đảm bảo rằng tỷ lệ khách hàng rời bỏ trong hai tập train và test là tương đương nhau, rất cần thiết cho bài toán dữ liệu mất cân bằng."
      ]
    },
    {
      "cell_type": "code",
      "execution_count": null,
      "id": "fe85e0f9",
      "metadata": {
        "vscode": {
          "languageId": "r"
        },
        "id": "fe85e0f9",
        "outputId": "f876f04a-f7d9-4c46-f223-63b4f5b62797"
      },
      "outputs": [
        {
          "name": "stdout",
          "output_type": "stream",
          "text": [
            "[1] \"Tỷ lệ Churn trên tập Train:\"\n"
          ]
        },
        {
          "data": {
            "text/plain": [
              "\n",
              "       No       Yes \n",
              "0.7345635 0.2654365 "
            ]
          },
          "metadata": {},
          "output_type": "display_data"
        },
        {
          "name": "stdout",
          "output_type": "stream",
          "text": [
            "[1] \"Tỷ lệ Churn trên tập Test:\"\n"
          ]
        },
        {
          "data": {
            "text/plain": [
              "\n",
              "       No       Yes \n",
              "0.7348969 0.2651031 "
            ]
          },
          "metadata": {},
          "output_type": "display_data"
        }
      ],
      "source": [
        "set.seed(123) # Để đảm bảo kết quả có thể tái lập\n",
        "\n",
        "# Tạo chỉ số cho tập huấn luyện\n",
        "train_index <- createDataPartition(df_model$Churn,\n",
        "                                   p = 0.8,\n",
        "                                   list = FALSE,\n",
        "                                   times = 1)\n",
        "\n",
        "# Tạo tập train và test\n",
        "train_data <- df_model[train_index, ]\n",
        "test_data  <- df_model[-train_index, ]\n",
        "\n",
        "# Kiểm tra tỷ lệ Churn trên hai tập\n",
        "print(\"Tỷ lệ Churn trên tập Train:\")\n",
        "prop.table(table(train_data$Churn))\n",
        "\n",
        "print(\"Tỷ lệ Churn trên tập Test:\")\n",
        "prop.table(table(test_data$Churn))"
      ]
    },
    {
      "cell_type": "markdown",
      "id": "b57ac55a",
      "metadata": {
        "id": "b57ac55a"
      },
      "source": [
        "### **5.3. Xử lý Dữ liệu Mất cân bằng (trên Tập Train)**\n",
        "\n",
        "Như đã thấy, lớp `Churn = Yes` chỉ chiếm khoảng 26.5%. Nếu huấn luyện trực tiếp, mô hình có thể có xu hướng dự đoán \"No\" nhiều hơn để đạt độ chính xác cao, nhưng sẽ bỏ lỡ nhiều trường hợp \"Yes\" quan trọng. Chúng ta sẽ sử dụng kỹ thuật **ROSE (Random Over-Sampling Examples)** để tạo ra một tập dữ liệu huấn luyện mới, cân bằng hơn.\n",
        "\n",
        "**Lưu ý:** Kỹ thuật này chỉ được áp dụng trên `train_data`, không được \"đụng\" đến `test_data` để tránh rò rỉ thông tin (data leakage)."
      ]
    },
    {
      "cell_type": "code",
      "execution_count": null,
      "id": "4283a8de",
      "metadata": {
        "vscode": {
          "languageId": "r"
        },
        "id": "4283a8de",
        "outputId": "93047c50-2032-495f-e712-3adbdf41f765"
      },
      "outputs": [
        {
          "name": "stdout",
          "output_type": "stream",
          "text": [
            "[1] \"Tỷ lệ Churn trên tập Train sau khi áp dụng ROSE:\"\n"
          ]
        },
        {
          "data": {
            "text/plain": [
              "\n",
              "  No  Yes \n",
              "2841 2795 "
            ]
          },
          "metadata": {},
          "output_type": "display_data"
        }
      ],
      "source": [
        "# Áp dụng ROSE để tạo tập train cân bằng\n",
        "train_rose <- ROSE(Churn ~ ., data = train_data, seed = 123)$data\n",
        "\n",
        "# Kiểm tra lại tỷ lệ Churn trên tập dữ liệu mới\n",
        "print(\"Tỷ lệ Churn trên tập Train sau khi áp dụng ROSE:\")\n",
        "table(train_rose$Churn)"
      ]
    },
    {
      "cell_type": "markdown",
      "id": "cefedee0",
      "metadata": {
        "id": "cefedee0"
      },
      "source": [
        "### **Phần 6: Xây dựng mô hình**"
      ]
    },
    {
      "cell_type": "markdown",
      "id": "f45b803b",
      "metadata": {
        "id": "f45b803b"
      },
      "source": [
        "Chúng ta sẽ sử dụng gói `caret` để huấn luyện 3 mô hình khác nhau và so sánh hiệu suất của chúng.\n",
        "\n",
        "### **6.1. Thiết lập Kiểm định chéo (Cross-Validation)**\n",
        "\n",
        "Để đánh giá mô hình một cách đáng tin cậy và tránh overfitting, chúng ta sử dụng kỹ thuật **Kiểm định chéo 10-lần (10-fold Cross-Validation)**. Dữ liệu huấn luyện sẽ được chia thành 10 phần, mô hình sẽ được huấn luyện trên 9 phần và kiểm thử trên 1 phần còn lại, quá trình này lặp lại 10 lần."
      ]
    },
    {
      "cell_type": "code",
      "execution_count": null,
      "id": "4145482b",
      "metadata": {
        "vscode": {
          "languageId": "r"
        },
        "id": "4145482b"
      },
      "outputs": [],
      "source": [
        "# Thiết lập control cho việc huấn luyện với 10-fold CV\n",
        "# twoClassSummary để tính các chỉ số như ROC, Sens, Spec\n",
        "ctrl <- trainControl(method = \"cv\",\n",
        "                     number = 10,\n",
        "                     classProbs = TRUE,\n",
        "                     summaryFunction = twoClassSummary)"
      ]
    },
    {
      "cell_type": "markdown",
      "id": "4b41d626",
      "metadata": {
        "id": "4b41d626"
      },
      "source": [
        "### **6.2. Huấn luyện các Mô hình**\n",
        "\n",
        "Chúng ta sẽ huấn luyện 3 mô hình:\n",
        "1.  **Hồi quy Logistic (`glm`):** Một mô hình tuyến tính, tốt để làm cơ sở (baseline).\n",
        "2.  **Cây quyết định (`rpart`):** Dễ diễn giải, giúp hiểu các quy tắc mô hình học được.\n",
        "3.  **Rừng ngẫu nhiên (`rf`):** Một mô hình tập hợp (ensemble) mạnh mẽ, thường cho kết quả tốt."
      ]
    },
    {
      "cell_type": "code",
      "execution_count": null,
      "id": "692d4a04",
      "metadata": {
        "vscode": {
          "languageId": "r"
        },
        "id": "692d4a04",
        "outputId": "f1718827-d6d2-45cd-9786-f0e26e07f50b"
      },
      "outputs": [
        {
          "name": "stdout",
          "output_type": "stream",
          "text": [
            "Generalized Linear Model \n",
            "\n",
            "5636 samples\n",
            "  18 predictor\n",
            "   2 classes: 'No', 'Yes' \n",
            "\n",
            "No pre-processing\n",
            "Resampling: Cross-Validated (10 fold) \n",
            "Summary of sample sizes: 5072, 5072, 5072, 5073, 5073, 5073, ... \n",
            "Resampling results:\n",
            "\n",
            "  ROC        Sens       Spec    \n",
            "  0.8512009  0.7472634  0.803565\n",
            "\n",
            "CART \n",
            "\n",
            "5636 samples\n",
            "  18 predictor\n",
            "   2 classes: 'No', 'Yes' \n",
            "\n",
            "No pre-processing\n",
            "Resampling: Cross-Validated (10 fold) \n",
            "Summary of sample sizes: 5072, 5072, 5072, 5073, 5073, 5073, ... \n",
            "Resampling results across tuning parameters:\n",
            "\n",
            "  cp          ROC        Sens       Spec     \n",
            "  0.02236136  0.7608839  0.6191450  0.8593843\n",
            "  0.17960644  0.6918094  0.4491796  0.9223349\n",
            "  0.28407871  0.5535257  0.7210106  0.3860407\n",
            "\n",
            "ROC was used to select the optimal model using the largest value.\n",
            "The final value used for the model was cp = 0.02236136.\n",
            "Random Forest \n",
            "\n",
            "5636 samples\n",
            "  18 predictor\n",
            "   2 classes: 'No', 'Yes' \n",
            "\n",
            "No pre-processing\n",
            "Resampling: Cross-Validated (10 fold) \n",
            "Summary of sample sizes: 5072, 5072, 5072, 5073, 5073, 5073, ... \n",
            "Resampling results across tuning parameters:\n",
            "\n",
            "  mtry  ROC        Sens       Spec     \n",
            "   2    0.8797087  0.7518347  0.8686879\n",
            "  12    0.8983341  0.7863393  0.8593715\n",
            "  23    0.8842263  0.7729652  0.8450614\n",
            "\n",
            "ROC was used to select the optimal model using the largest value.\n",
            "The final value used for the model was mtry = 12.\n"
          ]
        }
      ],
      "source": [
        "# Huấn luyện mô hình Logistic Regression\n",
        "set.seed(123)\n",
        "model_glm <- train(Churn ~ .,\n",
        "                   data = train_rose,\n",
        "                   method = \"glm\",\n",
        "                   family = \"binomial\",\n",
        "                   trControl = ctrl,\n",
        "                   metric = \"ROC\")\n",
        "\n",
        "# Huấn luyện mô hình Decision Tree\n",
        "set.seed(123)\n",
        "model_rpart <- train(Churn ~ .,\n",
        "                     data = train_rose,\n",
        "                     method = \"rpart\",\n",
        "                     trControl = ctrl,\n",
        "                     metric = \"ROC\")\n",
        "\n",
        "# Huấn luyện mô hình Random Forest\n",
        "# Lưu ý: Random Forest có thể mất nhiều thời gian hơn để huấn luyện\n",
        "set.seed(123)\n",
        "model_rf <- train(Churn ~ .,\n",
        "                  data = train_rose,\n",
        "                  method = \"rf\",\n",
        "                  trControl = ctrl,\n",
        "                  metric = \"ROC\")\n",
        "\n",
        "# In kết quả của các mô hình\n",
        "print(model_glm)\n",
        "print(model_rpart)\n",
        "print(model_rf)"
      ]
    },
    {
      "cell_type": "markdown",
      "id": "cb5538e9",
      "metadata": {
        "id": "cb5538e9"
      },
      "source": [
        "### **6.3. So sánh hiệu năng trên Kiểm định chéo**\n",
        "Chúng ta so sánh kết quả CV của các mô hình để xem mô hình nào hoạt động ổn định và tốt nhất trên tập huấn luyện."
      ]
    },
    {
      "cell_type": "code",
      "execution_count": null,
      "id": "97afbd1a",
      "metadata": {
        "vscode": {
          "languageId": "r"
        },
        "id": "97afbd1a",
        "outputId": "92848df1-6f3c-4318-b017-a31145000514"
      },
      "outputs": [
        {
          "data": {
            "text/plain": [
              "\n",
              "Call:\n",
              "summary.resamples(object = results)\n",
              "\n",
              "Models: LogisticRegression, DecisionTree, RandomForest \n",
              "Number of resamples: 10 \n",
              "\n",
              "ROC \n",
              "                        Min.   1st Qu.    Median      Mean   3rd Qu.      Max.\n",
              "LogisticRegression 0.8406841 0.8443631 0.8475937 0.8512009 0.8608305 0.8654526\n",
              "DecisionTree       0.7302173 0.7377803 0.7519037 0.7608839 0.7851358 0.8074360\n",
              "RandomForest       0.8788544 0.8938968 0.8974936 0.8983341 0.9070924 0.9122485\n",
              "                   NA's\n",
              "LogisticRegression    0\n",
              "DecisionTree          0\n",
              "RandomForest          0\n",
              "\n",
              "Sens \n",
              "                        Min.   1st Qu.    Median      Mean   3rd Qu.      Max.\n",
              "LogisticRegression 0.7077465 0.7332746 0.7464789 0.7472634 0.7632042 0.7887324\n",
              "DecisionTree       0.5528169 0.5783451 0.5968310 0.6191450 0.6746232 0.7112676\n",
              "RandomForest       0.7464789 0.7781690 0.7940141 0.7863393 0.7985946 0.8028169\n",
              "                   NA's\n",
              "LogisticRegression    0\n",
              "DecisionTree          0\n",
              "RandomForest          0\n",
              "\n",
              "Spec \n",
              "                        Min.   1st Qu.    Median      Mean   3rd Qu.      Max.\n",
              "LogisticRegression 0.7634409 0.7873144 0.8121608 0.8035650 0.8169643 0.8315412\n",
              "DecisionTree       0.7992832 0.8248720 0.8602151 0.8593843 0.8961598 0.9107143\n",
              "RandomForest       0.8064516 0.8531778 0.8625000 0.8593715 0.8757744 0.8964286\n",
              "                   NA's\n",
              "LogisticRegression    0\n",
              "DecisionTree          0\n",
              "RandomForest          0\n"
            ]
          },
          "metadata": {},
          "output_type": "display_data"
        },
        {
          "data": {
            "image/png": "[encoded data removed]",
            "text/plain": [
              "plot without title"
            ]
          },
          "metadata": {
            "image/png": {
              "height": 420,
              "width": 420
            }
          },
          "output_type": "display_data"
        }
      ],
      "source": [
        "# Tổng hợp kết quả từ các mô hình\n",
        "results <- resamples(list(LogisticRegression = model_glm,\n",
        "                          DecisionTree = model_rpart,\n",
        "                          RandomForest = model_rf))\n",
        "\n",
        "# In ra bảng tóm tắt\n",
        "summary(results)\n",
        "\n",
        "# Vẽ biểu đồ boxplot để so sánh\n",
        "bwplot(results, metric = \"ROC\")"
      ]
    },
    {
      "cell_type": "markdown",
      "id": "27f3a984",
      "metadata": {
        "id": "27f3a984"
      },
      "source": [
        "### **Phần 7: Đánh giá mô hình**"
      ]
    },
    {
      "cell_type": "markdown",
      "id": "f0cf123f",
      "metadata": {
        "id": "f0cf123f"
      },
      "source": [
        "Bây giờ là lúc \"bài kiểm tra cuối kỳ\". Chúng ta sẽ dùng các mô hình đã huấn luyện để dự đoán trên `test_data` - tập dữ liệu mà chúng chưa từng thấy.\n",
        "\n",
        "### **7.1. Dự đoán và Ma trận nhầm lẫn (Confusion Matrix)**"
      ]
    },
    {
      "cell_type": "code",
      "execution_count": null,
      "id": "5f6e991c",
      "metadata": {
        "vscode": {
          "languageId": "r"
        },
        "id": "5f6e991c",
        "outputId": "01ee541f-f53f-40e2-fcbc-60ab18988386"
      },
      "outputs": [
        {
          "name": "stdout",
          "output_type": "stream",
          "text": [
            "Confusion Matrix - Logistic Regression:\n"
          ]
        },
        {
          "data": {
            "text/plain": [
              "Confusion Matrix and Statistics\n",
              "\n",
              "          Reference\n",
              "Prediction  No Yes\n",
              "       No  744  89\n",
              "       Yes 290 284\n",
              "                                          \n",
              "               Accuracy : 0.7306          \n",
              "                 95% CI : (0.7066, 0.7537)\n",
              "    No Information Rate : 0.7349          \n",
              "    P-Value [Acc > NIR] : 0.6542          \n",
              "                                          \n",
              "                  Kappa : 0.4103          \n",
              "                                          \n",
              " Mcnemar's Test P-Value : <2e-16          \n",
              "                                          \n",
              "            Sensitivity : 0.7614          \n",
              "            Specificity : 0.7195          \n",
              "         Pos Pred Value : 0.4948          \n",
              "         Neg Pred Value : 0.8932          \n",
              "             Prevalence : 0.2651          \n",
              "         Detection Rate : 0.2018          \n",
              "   Detection Prevalence : 0.4080          \n",
              "      Balanced Accuracy : 0.7405          \n",
              "                                          \n",
              "       'Positive' Class : Yes             \n",
              "                                          "
            ]
          },
          "metadata": {},
          "output_type": "display_data"
        },
        {
          "name": "stdout",
          "output_type": "stream",
          "text": [
            "\n",
            "Confusion Matrix - Decision Tree:\n"
          ]
        },
        {
          "data": {
            "text/plain": [
              "Confusion Matrix and Statistics\n",
              "\n",
              "          Reference\n",
              "Prediction  No Yes\n",
              "       No  578  40\n",
              "       Yes 456 333\n",
              "                                          \n",
              "               Accuracy : 0.6475          \n",
              "                 95% CI : (0.6219, 0.6725)\n",
              "    No Information Rate : 0.7349          \n",
              "    P-Value [Acc > NIR] : 1               \n",
              "                                          \n",
              "                  Kappa : 0.333           \n",
              "                                          \n",
              " Mcnemar's Test P-Value : <2e-16          \n",
              "                                          \n",
              "            Sensitivity : 0.8928          \n",
              "            Specificity : 0.5590          \n",
              "         Pos Pred Value : 0.4221          \n",
              "         Neg Pred Value : 0.9353          \n",
              "             Prevalence : 0.2651          \n",
              "         Detection Rate : 0.2367          \n",
              "   Detection Prevalence : 0.5608          \n",
              "      Balanced Accuracy : 0.7259          \n",
              "                                          \n",
              "       'Positive' Class : Yes             \n",
              "                                          "
            ]
          },
          "metadata": {},
          "output_type": "display_data"
        },
        {
          "name": "stdout",
          "output_type": "stream",
          "text": [
            "\n",
            "Confusion Matrix - Random Forest:\n"
          ]
        },
        {
          "data": {
            "text/plain": [
              "Confusion Matrix and Statistics\n",
              "\n",
              "          Reference\n",
              "Prediction  No Yes\n",
              "       No  751 103\n",
              "       Yes 283 270\n",
              "                                          \n",
              "               Accuracy : 0.7257          \n",
              "                 95% CI : (0.7015, 0.7488)\n",
              "    No Information Rate : 0.7349          \n",
              "    P-Value [Acc > NIR] : 0.793           \n",
              "                                          \n",
              "                  Kappa : 0.39            \n",
              "                                          \n",
              " Mcnemar's Test P-Value : <2e-16          \n",
              "                                          \n",
              "            Sensitivity : 0.7239          \n",
              "            Specificity : 0.7263          \n",
              "         Pos Pred Value : 0.4882          \n",
              "         Neg Pred Value : 0.8794          \n",
              "             Prevalence : 0.2651          \n",
              "         Detection Rate : 0.1919          \n",
              "   Detection Prevalence : 0.3930          \n",
              "      Balanced Accuracy : 0.7251          \n",
              "                                          \n",
              "       'Positive' Class : Yes             \n",
              "                                          "
            ]
          },
          "metadata": {},
          "output_type": "display_data"
        }
      ],
      "source": [
        "# Dự đoán trên tập test\n",
        "pred_glm <- predict(model_glm, newdata = test_data)\n",
        "pred_rpart <- predict(model_rpart, newdata = test_data)\n",
        "pred_rf <- predict(model_rf, newdata = test_data)\n",
        "\n",
        "# Đánh giá bằng Confusion Matrix\n",
        "cat(\"Confusion Matrix - Logistic Regression:\\n\")\n",
        "confusionMatrix(pred_glm, test_data$Churn, positive = \"Yes\")\n",
        "\n",
        "cat(\"\\nConfusion Matrix - Decision Tree:\\n\")\n",
        "confusionMatrix(pred_rpart, test_data$Churn, positive = \"Yes\")\n",
        "\n",
        "cat(\"\\nConfusion Matrix - Random Forest:\\n\")\n",
        "confusionMatrix(pred_rf, test_data$Churn, positive = \"Yes\")"
      ]
    },
    {
      "cell_type": "markdown",
      "id": "d64e92b8",
      "metadata": {
        "id": "d64e92b8"
      },
      "source": [
        "### **7.2. So sánh bằng đường cong ROC và chỉ số AUC**\n",
        "AUC (Area Under the Curve) là thước đo tổng quát về khả năng phân loại của mô hình, không phụ thuộc vào ngưỡng (threshold) cụ thể. AUC càng gần 1, mô hình càng tốt.\n"
      ]
    },
    {
      "cell_type": "code",
      "execution_count": null,
      "id": "5ce9053b",
      "metadata": {
        "vscode": {
          "languageId": "r"
        },
        "id": "5ce9053b",
        "outputId": "f9dc98e7-69e0-4f7a-ca72-d28c16450591"
      },
      "outputs": [
        {
          "name": "stderr",
          "output_type": "stream",
          "text": [
            "Setting levels: control = No, case = Yes\n",
            "\n",
            "Setting direction: controls < cases\n",
            "\n",
            "Setting levels: control = No, case = Yes\n",
            "\n",
            "Setting direction: controls < cases\n",
            "\n",
            "Setting levels: control = No, case = Yes\n",
            "\n",
            "Setting direction: controls < cases\n",
            "\n"
          ]
        },
        {
          "name": "stdout",
          "output_type": "stream",
          "text": [
            "AUC - Logistic Regression: 0.8312379 \n",
            "AUC - Decision Tree: 0.7363502 \n",
            "AUC - Random Forest: 0.8069264 \n"
          ]
        },
        {
          "data": {
            "image/png": "[encoded data removed]",
            "text/plain": [
              "plot without title"
            ]
          },
          "metadata": {
            "image/png": {
              "height": 420,
              "width": 420
            }
          },
          "output_type": "display_data"
        }
      ],
      "source": [
        "# Lấy xác suất dự đoán cho lớp 'Yes'\n",
        "prob_glm <- predict(model_glm, newdata = test_data, type = \"prob\")$Yes\n",
        "prob_rpart <- predict(model_rpart, newdata = test_data, type = \"prob\")$Yes\n",
        "prob_rf <- predict(model_rf, newdata = test_data, type = \"prob\")$Yes\n",
        "\n",
        "# Tạo các đối tượng ROC\n",
        "roc_glm <- roc(test_data$Churn, prob_glm)\n",
        "roc_rpart <- roc(test_data$Churn, prob_rpart)\n",
        "roc_rf <- roc(test_data$Churn, prob_rf)\n",
        "\n",
        "# Vẽ các đường cong ROC trên cùng một biểu đồ\n",
        "ggroc(list(LogisticRegression = roc_glm, DecisionTree = roc_rpart, RandomForest = roc_rf),\n",
        "      legacy.axes = TRUE) +\n",
        "  geom_abline(intercept = 0, slope = 1, linetype = \"dashed\", color = \"grey\") +\n",
        "  labs(title = \"So sánh đường cong ROC trên Tập Test\",\n",
        "       x = \"1 - Specificity (False Positive Rate)\",\n",
        "       y = \"Sensitivity (True Positive Rate)\") +\n",
        "  theme_minimal()\n",
        "\n",
        "# In ra giá trị AUC\n",
        "cat(\"AUC - Logistic Regression:\", auc(roc_glm), \"\\n\")\n",
        "cat(\"AUC - Decision Tree:\", auc(roc_rpart), \"\\n\")\n",
        "cat(\"AUC - Random Forest:\", auc(roc_rf), \"\\n\")"
      ]
    },
    {
      "cell_type": "markdown",
      "id": "f7ac99f2",
      "metadata": {
        "id": "f7ac99f2"
      },
      "source": [
        "### **Phần 8: Diễn giải và Kết luận cuối cùng**\n",
        "Chúng ta đã chọn được mô hình tốt nhất là Random Forest. Bây giờ, hãy xem mô hình này \"nghĩ\" gì và yếu tố nào là quan trọng nhất đối với nó."
      ]
    },
    {
      "cell_type": "code",
      "execution_count": null,
      "id": "da3980f3",
      "metadata": {
        "vscode": {
          "languageId": "r"
        },
        "id": "da3980f3",
        "outputId": "28085ec7-8413-44d1-9f57-e94f1e9fe833"
      },
      "outputs": [
        {
          "data": {
            "image/png": "[encoded data removed]",
            "text/plain": [
              "plot without title"
            ]
          },
          "metadata": {
            "image/png": {
              "height": 420,
              "width": 420
            }
          },
          "output_type": "display_data"
        }
      ],
      "source": [
        "# Xem mức độ quan trọng của các biến từ mô hình Random Forest\n",
        "imp <- varImp(model_rf)\n",
        "plot(imp, top = 15, main = \"Top 15 Biến quan trọng nhất theo Random Forest\")"
      ]
    },
    {
      "cell_type": "code",
      "execution_count": null,
      "id": "3c4aacac",
      "metadata": {
        "vscode": {
          "languageId": "r"
        },
        "id": "3c4aacac"
      },
      "outputs": [],
      "source": []
    }
  ],
  "metadata": {
    "kernelspec": {
      "display_name": "R",
      "language": "R",
      "name": "ir"
    },
    "language_info": {
      "codemirror_mode": "r",
      "file_extension": ".r",
      "mimetype": "text/x-r-source",
      "name": "R",
      "pygments_lexer": "r",
      "version": "4.4.3"
    },
    "colab": {
      "provenance": [],
      "include_colab_link": true
    }
  },
  "nbformat": 4,
  "nbformat_minor": 5
}